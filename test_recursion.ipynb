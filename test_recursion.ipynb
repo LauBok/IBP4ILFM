{
 "cells": [
  {
   "cell_type": "code",
   "execution_count": 1,
   "metadata": {},
   "outputs": [],
   "source": [
    "import numpy as np\n",
    "from tqdm import trange\n",
    "import time"
   ]
  },
  {
   "cell_type": "code",
   "execution_count": 2,
   "metadata": {},
   "outputs": [],
   "source": [
    "def lp(trX, X, Z, sigma_X = 1, sigma_A = 1):\n",
    "    N, D = X.shape\n",
    "    \n",
    "    K = Z.shape[1]\n",
    "    \n",
    "    u, s, v = np.linalg.svd(Z,full_matrices=False)\n",
    "    det = np.sum(np.log(s**2 + sigma_X**2 / sigma_A**2))\n",
    "    l = s**2 / (s**2 + sigma_X**2 / sigma_A**2)\n",
    "\n",
    "    uTX = u.T @ X\n",
    "    uX = np.sum(uTX ** 2, axis = 1)\n",
    "\n",
    "    res = - N * D / 2 * np.log(2 * np.pi)\n",
    "    res -= (N - K) * D * np.log(sigma_X)\n",
    "    res -= K * D * np.log(sigma_A)\n",
    "    res -= D / 2 * det\n",
    "    res -= 1 / (2 * sigma_X**2) * (trX - sum(l * uX))\n",
    "    return res"
   ]
  },
  {
   "cell_type": "code",
   "execution_count": 3,
   "metadata": {},
   "outputs": [],
   "source": [
    "def lp_optimization(X, Z, C, i, sigma_X = 1, sigma_A = 1):\n",
    "    e = np.zeros(Z.shape[0])\n",
    "    e[i] = 1\n",
    "    trX = np.trace(X.T @ X)\n",
    "    base = lp(trX, X, Z, sigma_X, sigma_A)\n",
    "    diff = [0] * C\n",
    "    for c in range(C):\n",
    "        Z = np.c_[Z, e]\n",
    "        diff[c] = lp(trX, X, Z, sigma_X, sigma_A) - base\n",
    "    return diff"
   ]
  },
  {
   "cell_type": "code",
   "execution_count": 4,
   "metadata": {},
   "outputs": [],
   "source": [
    "def lp_recursive(X, Z, C, i, sigma_X = 1, sigma_A = 1):\n",
    "    D = X.shape[1]\n",
    "    e = np.zeros(Z.shape[0])\n",
    "    e[i] = 1\n",
    "    U, S, Vh = np.linalg.svd(Z, full_matrices = False)\n",
    "    d = S ** 2 / (S ** 2 + sigma_X**2/sigma_A**2)\n",
    "    coef = d * U[i,]\n",
    "    gamma_i = U @ coef\n",
    "    cur_diff = 0\n",
    "    diff = [0] * C\n",
    "    for c in range(C):\n",
    "        mu = 1 + sigma_X**2/sigma_A**2 - gamma_i[i]\n",
    "        t = 1/mu * np.sum((X.T @ gamma_i - X[i])**2)\n",
    "        cur_diff += D * np.log(sigma_X / sigma_A)\n",
    "        cur_diff -= D / 2 * np.log(mu) \n",
    "        cur_diff += t/(2 * sigma_X**2)\n",
    "        gamma_i += 1/mu * (gamma_i[i] - 1) * (gamma_i - e)\n",
    "        diff[c] = cur_diff\n",
    "    return diff"
   ]
  },
  {
   "cell_type": "code",
   "execution_count": 5,
   "metadata": {},
   "outputs": [],
   "source": [
    "def compare(N, D, K, C, i, sigma_X = 1, sigma_A = 1):\n",
    "    \n",
    "    X = np.random.normal(0, 1, (N, D))\n",
    "    Z = np.random.randint(0, 2, (N, K))\n",
    "    time_1 = time.time()\n",
    "    opt = lp_optimization(X, Z, C, i, sigma_X, sigma_A)\n",
    "    time_opt = time.time() - time_1\n",
    "    time_2 = time.time()\n",
    "    rec = lp_recursive(X, Z, C, i, sigma_X, sigma_A)\n",
    "    time_rec = time.time() - time_2\n",
    "    return np.array(opt) - np.array(rec), time_opt, time_rec"
   ]
  },
  {
   "cell_type": "code",
   "execution_count": 6,
   "metadata": {},
   "outputs": [],
   "source": [
    "def multicompare(N, D, K, C, T):\n",
    "    res = np.zeros((3, T))\n",
    "    for t in trange(T):\n",
    "        i = np.random.randint(0, N)\n",
    "        sigma_X = np.random.rand() + 1\n",
    "        sigma_A = np.random.rand() + 1\n",
    "        err, topt, trec = compare(N, D, K, C, i, sigma_X, sigma_A)\n",
    "        res[0, t] = np.max(err)\n",
    "        res[1, t] = topt\n",
    "        res[2, t] = trec\n",
    "    return np.mean(res[0]), np.mean(res[1]), np.max(res[1]), np.mean(res[2]), np.max(res[2])"
   ]
  },
  {
   "cell_type": "code",
   "execution_count": 22,
   "metadata": {
    "tags": [
     "outputPrepend",
     "outputPrepend",
     "outputPrepend"
    ]
   },
   "outputs": [
    {
     "output_type": "stream",
     "name": "stderr",
     "text": "100%|██████████| 10/10 [07:17<00:00, 42.94s/it]\n"
    },
    {
     "output_type": "execute_result",
     "data": {
      "text/plain": "(7.651533451280557e-09,\n 37.2136647939682,\n 42.94121599197388,\n 4.901110601425171,\n 5.721427917480469)"
     },
     "metadata": {},
     "execution_count": 22
    }
   ],
   "source": [
    "multicompare(N = 10000, D = 4000, K = 2000, C = 5, T = 10)"
   ]
  },
  {
   "cell_type": "code",
   "execution_count": 21,
   "metadata": {},
   "outputs": [
    {
     "output_type": "stream",
     "name": "stderr",
     "text": "100%|██████████| 10/10 [02:06<00:00, 12.24s/it]\n"
    },
    {
     "output_type": "execute_result",
     "data": {
      "text/plain": "(5.6345811572100505e-09,\n 10.173895239830017,\n 11.740906000137329,\n 1.0226547956466674,\n 1.2471301555633545)"
     },
     "metadata": {},
     "execution_count": 21
    }
   ],
   "source": [
    "multicompare(N = 10000, D = 4000, K = 1000, C = 5, T = 10)"
   ]
  },
  {
   "cell_type": "code",
   "execution_count": null,
   "metadata": {},
   "outputs": [],
   "source": []
  }
 ],
 "metadata": {
  "language_info": {
   "codemirror_mode": {
    "name": "ipython",
    "version": 3
   },
   "file_extension": ".py",
   "mimetype": "text/x-python",
   "name": "python",
   "nbconvert_exporter": "python",
   "pygments_lexer": "ipython3",
   "version": "3.7.3-final"
  },
  "orig_nbformat": 2,
  "kernelspec": {
   "name": "python3",
   "display_name": "Python 3"
  }
 },
 "nbformat": 4,
 "nbformat_minor": 2
}