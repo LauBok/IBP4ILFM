{
 "cells": [
  {
   "cell_type": "code",
   "execution_count": 1,
   "metadata": {},
   "outputs": [],
   "source": [
    "import numpy as np\n",
    "import time\n",
    "from tqdm import trange"
   ]
  },
  {
   "cell_type": "code",
   "execution_count": 4,
   "metadata": {},
   "outputs": [],
   "source": [
    "def lp_original(X, Z, sigma_X = None, sigma_A = None):\n",
    "    N, D = X.shape\n",
    "    K = Z.shape[1]\n",
    "    invMat = np.linalg.inv(Z.T @ Z + sigma_X**2 / sigma_A**2 * np.eye(K))\n",
    "    res = - N * D / 2 * np.log(2 * np.pi)\n",
    "    res -= (N - K) * D * np.log(sigma_X)\n",
    "    res -= K * D * np.log(sigma_A)\n",
    "    res += D / 2 * np.log(np.linalg.det(invMat))\n",
    "    res -= 1 / (2 * sigma_X**2) * np.trace(X.T @ (np.eye(N) - Z @ invMat @ Z.T) @ X)\n",
    "    return res\n",
    "\n",
    "def lp(trX, X, Z, sigma_X = None, sigma_A = None):\n",
    "    N, D = X.shape\n",
    "    \n",
    "    K = Z.shape[1]\n",
    "    \n",
    "    u, s, v = np.linalg.svd(Z,full_matrices=False)\n",
    "    det = np.prod(s**2 + sigma_X**2 / sigma_A**2)\n",
    "    l = s**2 / (s**2 + sigma_X**2 / sigma_A**2)\n",
    "    uTX = u.T @ X\n",
    "    uX = np.sum(uTX ** 2, axis = 1)\n",
    "\n",
    "    res = - N * D / 2 * np.log(2 * np.pi)\n",
    "    res -= (N - K) * D * np.log(sigma_X)\n",
    "    res -= K * D * np.log(sigma_A)\n",
    "    res -= D / 2 * np.log(det)\n",
    "    res -= 1 / (2 * sigma_X**2) * (trX - sum(l * uX))\n",
    "    return res"
   ]
  },
  {
   "cell_type": "code",
   "execution_count": 5,
   "metadata": {},
   "outputs": [],
   "source": [
    "def test_lp(N, D, K, times, sigma_X = None, sigma_A = None):\n",
    "    if sigma_X is None:\n",
    "        sigma_X = 1\n",
    "    if sigma_A is None:\n",
    "        sigma_A = 1\n",
    "    diff = np.zeros(times)\n",
    "    diff[:] = np.nan\n",
    "    time_arr = np.zeros((2, times))\n",
    "    for i in trange(times):\n",
    "        X = np.random.normal(0, 1, (N, D))\n",
    "        Z = np.random.randint(0, 1, (N, K))  \n",
    "        trX = np.trace(X.T @ X)\n",
    "        time_start = time.time()\n",
    "        ans1 = lp_original(X = X, Z = Z, sigma_X = 1, sigma_A = 1)\n",
    "        time_arr[0, i] = time.time() - time_start\n",
    "        time_start = time.time()\n",
    "        ans2 = lp(trX = trX, X = X, Z = Z, sigma_X = 1, sigma_A = 1)\n",
    "        time_arr[1, i] = time.time() - time_start\n",
    "        diff[i] = ans2 - ans1\n",
    "    \n",
    "    return np.max(abs(diff)), np.mean(time_arr, axis = 1), np.max(time_arr, axis = 1)"
   ]
  },
  {
   "cell_type": "code",
   "execution_count": 6,
   "metadata": {},
   "outputs": [
    {
     "output_type": "stream",
     "name": "stderr",
     "text": "  1%|          | 1/100 [00:06<10:11,  6.17s/it]"
    },
    {
     "output_type": "error",
     "ename": "KeyboardInterrupt",
     "evalue": "",
     "traceback": [
      "\u001b[0;31m---------------------------------------------------------------------------\u001b[0m",
      "\u001b[0;31mKeyboardInterrupt\u001b[0m                         Traceback (most recent call last)",
      "\u001b[0;32m<ipython-input-6-28ac7dad9acd>\u001b[0m in \u001b[0;36m<module>\u001b[0;34m\u001b[0m\n\u001b[0;32m----> 1\u001b[0;31m \u001b[0mdiffs\u001b[0m \u001b[0;34m=\u001b[0m \u001b[0mtest_lp\u001b[0m\u001b[0;34m(\u001b[0m\u001b[0;36m5000\u001b[0m\u001b[0;34m,\u001b[0m \u001b[0;36m1000\u001b[0m\u001b[0;34m,\u001b[0m \u001b[0;36m500\u001b[0m\u001b[0;34m,\u001b[0m \u001b[0;36m100\u001b[0m\u001b[0;34m,\u001b[0m \u001b[0;36m1\u001b[0m\u001b[0;34m,\u001b[0m \u001b[0;36m1\u001b[0m\u001b[0;34m)\u001b[0m\u001b[0;34m\u001b[0m\u001b[0;34m\u001b[0m\u001b[0m\n\u001b[0m\u001b[1;32m      2\u001b[0m \u001b[0mprint\u001b[0m\u001b[0;34m(\u001b[0m\u001b[0mdiffs\u001b[0m\u001b[0;34m)\u001b[0m\u001b[0;34m\u001b[0m\u001b[0;34m\u001b[0m\u001b[0m\n",
      "\u001b[0;32m<ipython-input-5-46d45cb6bbdf>\u001b[0m in \u001b[0;36mtest_lp\u001b[0;34m(N, D, K, times, sigma_X, sigma_A)\u001b[0m\n\u001b[1;32m     12\u001b[0m         \u001b[0mtrX\u001b[0m \u001b[0;34m=\u001b[0m \u001b[0mnp\u001b[0m\u001b[0;34m.\u001b[0m\u001b[0mtrace\u001b[0m\u001b[0;34m(\u001b[0m\u001b[0mX\u001b[0m\u001b[0;34m.\u001b[0m\u001b[0mT\u001b[0m \u001b[0;34m@\u001b[0m \u001b[0mX\u001b[0m\u001b[0;34m)\u001b[0m\u001b[0;34m\u001b[0m\u001b[0;34m\u001b[0m\u001b[0m\n\u001b[1;32m     13\u001b[0m         \u001b[0mtime_start\u001b[0m \u001b[0;34m=\u001b[0m \u001b[0mtime\u001b[0m\u001b[0;34m.\u001b[0m\u001b[0mtime\u001b[0m\u001b[0;34m(\u001b[0m\u001b[0;34m)\u001b[0m\u001b[0;34m\u001b[0m\u001b[0;34m\u001b[0m\u001b[0m\n\u001b[0;32m---> 14\u001b[0;31m         \u001b[0mans1\u001b[0m \u001b[0;34m=\u001b[0m \u001b[0mlp_original\u001b[0m\u001b[0;34m(\u001b[0m\u001b[0mX\u001b[0m \u001b[0;34m=\u001b[0m \u001b[0mX\u001b[0m\u001b[0;34m,\u001b[0m \u001b[0mZ\u001b[0m \u001b[0;34m=\u001b[0m \u001b[0mZ\u001b[0m\u001b[0;34m,\u001b[0m \u001b[0msigma_X\u001b[0m \u001b[0;34m=\u001b[0m \u001b[0;36m1\u001b[0m\u001b[0;34m,\u001b[0m \u001b[0msigma_A\u001b[0m \u001b[0;34m=\u001b[0m \u001b[0;36m1\u001b[0m\u001b[0;34m)\u001b[0m\u001b[0;34m\u001b[0m\u001b[0;34m\u001b[0m\u001b[0m\n\u001b[0m\u001b[1;32m     15\u001b[0m         \u001b[0mtime_arr\u001b[0m\u001b[0;34m[\u001b[0m\u001b[0;36m0\u001b[0m\u001b[0;34m,\u001b[0m \u001b[0mi\u001b[0m\u001b[0;34m]\u001b[0m \u001b[0;34m=\u001b[0m \u001b[0mtime\u001b[0m\u001b[0;34m.\u001b[0m\u001b[0mtime\u001b[0m\u001b[0;34m(\u001b[0m\u001b[0;34m)\u001b[0m \u001b[0;34m-\u001b[0m \u001b[0mtime_start\u001b[0m\u001b[0;34m\u001b[0m\u001b[0;34m\u001b[0m\u001b[0m\n\u001b[1;32m     16\u001b[0m         \u001b[0mtime_start\u001b[0m \u001b[0;34m=\u001b[0m \u001b[0mtime\u001b[0m\u001b[0;34m.\u001b[0m\u001b[0mtime\u001b[0m\u001b[0;34m(\u001b[0m\u001b[0;34m)\u001b[0m\u001b[0;34m\u001b[0m\u001b[0;34m\u001b[0m\u001b[0m\n",
      "\u001b[0;32m<ipython-input-4-647e06f663af>\u001b[0m in \u001b[0;36mlp_original\u001b[0;34m(X, Z, sigma_X, sigma_A)\u001b[0m\n\u001b[1;32m      2\u001b[0m     \u001b[0mN\u001b[0m\u001b[0;34m,\u001b[0m \u001b[0mD\u001b[0m \u001b[0;34m=\u001b[0m \u001b[0mX\u001b[0m\u001b[0;34m.\u001b[0m\u001b[0mshape\u001b[0m\u001b[0;34m\u001b[0m\u001b[0;34m\u001b[0m\u001b[0m\n\u001b[1;32m      3\u001b[0m     \u001b[0mK\u001b[0m \u001b[0;34m=\u001b[0m \u001b[0mZ\u001b[0m\u001b[0;34m.\u001b[0m\u001b[0mshape\u001b[0m\u001b[0;34m[\u001b[0m\u001b[0;36m1\u001b[0m\u001b[0;34m]\u001b[0m\u001b[0;34m\u001b[0m\u001b[0;34m\u001b[0m\u001b[0m\n\u001b[0;32m----> 4\u001b[0;31m     \u001b[0minvMat\u001b[0m \u001b[0;34m=\u001b[0m \u001b[0mnp\u001b[0m\u001b[0;34m.\u001b[0m\u001b[0mlinalg\u001b[0m\u001b[0;34m.\u001b[0m\u001b[0minv\u001b[0m\u001b[0;34m(\u001b[0m\u001b[0mZ\u001b[0m\u001b[0;34m.\u001b[0m\u001b[0mT\u001b[0m \u001b[0;34m@\u001b[0m \u001b[0mZ\u001b[0m \u001b[0;34m+\u001b[0m \u001b[0msigma_X\u001b[0m\u001b[0;34m**\u001b[0m\u001b[0;36m2\u001b[0m \u001b[0;34m/\u001b[0m \u001b[0msigma_A\u001b[0m\u001b[0;34m**\u001b[0m\u001b[0;36m2\u001b[0m \u001b[0;34m*\u001b[0m \u001b[0mnp\u001b[0m\u001b[0;34m.\u001b[0m\u001b[0meye\u001b[0m\u001b[0;34m(\u001b[0m\u001b[0mK\u001b[0m\u001b[0;34m)\u001b[0m\u001b[0;34m)\u001b[0m\u001b[0;34m\u001b[0m\u001b[0;34m\u001b[0m\u001b[0m\n\u001b[0m\u001b[1;32m      5\u001b[0m     \u001b[0mres\u001b[0m \u001b[0;34m=\u001b[0m \u001b[0;34m-\u001b[0m \u001b[0mN\u001b[0m \u001b[0;34m*\u001b[0m \u001b[0mD\u001b[0m \u001b[0;34m/\u001b[0m \u001b[0;36m2\u001b[0m \u001b[0;34m*\u001b[0m \u001b[0mnp\u001b[0m\u001b[0;34m.\u001b[0m\u001b[0mlog\u001b[0m\u001b[0;34m(\u001b[0m\u001b[0;36m2\u001b[0m \u001b[0;34m*\u001b[0m \u001b[0mnp\u001b[0m\u001b[0;34m.\u001b[0m\u001b[0mpi\u001b[0m\u001b[0;34m)\u001b[0m\u001b[0;34m\u001b[0m\u001b[0;34m\u001b[0m\u001b[0m\n\u001b[1;32m      6\u001b[0m     \u001b[0mres\u001b[0m \u001b[0;34m-=\u001b[0m \u001b[0;34m(\u001b[0m\u001b[0mN\u001b[0m \u001b[0;34m-\u001b[0m \u001b[0mK\u001b[0m\u001b[0;34m)\u001b[0m \u001b[0;34m*\u001b[0m \u001b[0mD\u001b[0m \u001b[0;34m*\u001b[0m \u001b[0mnp\u001b[0m\u001b[0;34m.\u001b[0m\u001b[0mlog\u001b[0m\u001b[0;34m(\u001b[0m\u001b[0msigma_X\u001b[0m\u001b[0;34m)\u001b[0m\u001b[0;34m\u001b[0m\u001b[0;34m\u001b[0m\u001b[0m\n",
      "\u001b[0;31mKeyboardInterrupt\u001b[0m: "
     ]
    }
   ],
   "source": [
    "diffs = test_lp(5000, 1000, 500, 100, 1, 1)\n",
    "print(diffs)"
   ]
  },
  {
   "cell_type": "code",
   "execution_count": null,
   "metadata": {},
   "outputs": [],
   "source": [
    "diffs = test_lp(5000, 2000, 500, 100, 1, 1)\n",
    "print(diffs)"
   ]
  },
  {
   "cell_type": "code",
   "execution_count": 30,
   "metadata": {},
   "outputs": [
    {
     "output_type": "stream",
     "name": "stdout",
     "text": "(0.0, array([29.50684445,  0.47264665]), array([29.71937585,  0.63346362]))\n"
    }
   ],
   "source": [
    "diffs = test_lp(5000, 2000, 1000, 100, 1, 1)\n",
    "print(diffs)"
   ]
  },
  {
   "cell_type": "code",
   "execution_count": 31,
   "metadata": {},
   "outputs": [
    {
     "output_type": "stream",
     "name": "stdout",
     "text": "(0.0, array([13.14423772,  0.3135772 ]), array([13.33555889,  0.37853098]))\n"
    }
   ],
   "source": [
    "diffs = test_lp(10000, 2000, 500, 100, 1, 1)\n",
    "print(diffs)"
   ]
  },
  {
   "cell_type": "code",
   "execution_count": 32,
   "metadata": {},
   "outputs": [
    {
     "output_type": "stream",
     "name": "stdout",
     "text": "(0.0, array([61.38463615,  0.90489028]), array([61.64979887,  1.05102801]))\n"
    }
   ],
   "source": [
    "diffs = test_lp(10000, 2000, 1000, 100, 1, 1)\n",
    "print(diffs)"
   ]
  },
  {
   "cell_type": "code",
   "execution_count": 33,
   "metadata": {},
   "outputs": [
    {
     "output_type": "stream",
     "name": "stdout",
     "text": "(0.0, array([64.49265615,  1.3256369 ]), array([64.73263001,  1.54279494]))\n"
    }
   ],
   "source": [
    "diffs = test_lp(10000, 4000, 1000, 100, 1, 1)\n",
    "print(diffs)"
   ]
  },
  {
   "cell_type": "code",
   "execution_count": 13,
   "metadata": {},
   "outputs": [
    {
     "output_type": "stream",
     "name": "stdout",
     "text": "0 4.445885896682739\n1 4.640552997589111\n2 4.650594234466553\n3 4.533618927001953\n4 4.723412990570068\n5 4.5623509883880615\n6 4.442514896392822\n7 4.512377023696899\n8 4.676807880401611\n9 4.614368677139282\n10 4.49978494644165\n11 4.779513120651245\n12 4.480829954147339\n13 4.751262187957764\n14 5.031541109085083\n15 6.109114170074463\n16 5.403279066085815\n17 5.141122102737427\n18 5.763437032699585\n19 5.781904935836792\n20 6.897506237030029\n21 6.039398193359375\n22 5.9285900592803955\n23 5.260403871536255\n24 5.254140138626099\n25 5.673856973648071\n26 4.635652303695679\n27 4.96704888343811\n28 5.409122705459595\n29 5.164546728134155\n30 5.149062156677246\n31 5.552958011627197\n32 5.35636305809021\n33 5.880333185195923\n34 6.4204747676849365\n35 4.544293165206909\n36 4.747936010360718\n37 5.369999885559082\n38 6.62015700340271\n39 5.083015203475952\n40 4.859413146972656\n41 6.485748052597046\n42 6.705762147903442\n43 5.250417947769165\n44 4.858508110046387\n45 5.299223899841309\n46 5.483964920043945\n47 5.624140977859497\n48 5.935220003128052\n49 5.034213304519653\n50 6.093579053878784\n51 6.124725103378296\n52 4.823246002197266\n53 4.805227994918823\n54 5.739044904708862\n55 5.683741092681885\n56 5.5997819900512695\n57 5.683679103851318\n58 5.21959924697876\n59 4.878530025482178\n60 4.640330076217651\n61 4.621961832046509\n62 4.755246877670288\n63 4.777087211608887\n64 4.780180931091309\n65 4.789134979248047\n66 4.867288112640381\n67 4.955837965011597\n68 4.760986804962158\n69 4.699757099151611\n70 4.992162227630615\n71 4.707859039306641\n72 4.586467027664185\n73 5.198904991149902\n74 5.1446380615234375\n75 4.813171148300171\n76 4.947441816329956\n77 4.601607084274292\n78 4.655874252319336\n79 4.9679718017578125\n80 5.31999397277832\n81 5.329227924346924\n82 5.135374307632446\n83 4.797614812850952\n84 4.5948569774627686\n85 4.785959005355835\n86 4.731553077697754\n87 4.832003116607666\n88 4.802367925643921\n89 4.738033056259155\n90 4.742304801940918\n91 4.790657043457031\n92 4.661271095275879\n93 4.769251823425293\n94 4.711536884307861\n95 4.9826130867004395\n96 4.583067178726196\n97 4.670483112335205\n98 4.997731924057007\n99 4.6800150871276855\n"
    },
    {
     "output_type": "error",
     "ename": "NameError",
     "evalue": "name 'mean' is not defined",
     "traceback": [
      "\u001b[0;31m---------------------------------------------------------------------------\u001b[0m",
      "\u001b[0;31mNameError\u001b[0m                                 Traceback (most recent call last)",
      "\u001b[0;32m<ipython-input-13-ecdda8d72eb4>\u001b[0m in \u001b[0;36m<module>\u001b[0;34m\u001b[0m\n\u001b[1;32m      8\u001b[0m     \u001b[0marr\u001b[0m\u001b[0;34m[\u001b[0m\u001b[0mi\u001b[0m\u001b[0;34m]\u001b[0m \u001b[0;34m=\u001b[0m \u001b[0mtime\u001b[0m\u001b[0;34m.\u001b[0m\u001b[0mtime\u001b[0m\u001b[0;34m(\u001b[0m\u001b[0;34m)\u001b[0m \u001b[0;34m-\u001b[0m \u001b[0mtime_start\u001b[0m\u001b[0;34m\u001b[0m\u001b[0;34m\u001b[0m\u001b[0m\n\u001b[1;32m      9\u001b[0m     \u001b[0mprint\u001b[0m\u001b[0;34m(\u001b[0m\u001b[0mi\u001b[0m\u001b[0;34m,\u001b[0m \u001b[0marr\u001b[0m\u001b[0;34m[\u001b[0m\u001b[0mi\u001b[0m\u001b[0;34m]\u001b[0m\u001b[0;34m)\u001b[0m\u001b[0;34m\u001b[0m\u001b[0;34m\u001b[0m\u001b[0m\n\u001b[0;32m---> 10\u001b[0;31m \u001b[0mprint\u001b[0m\u001b[0;34m(\u001b[0m\u001b[0mmean\u001b[0m\u001b[0;34m(\u001b[0m\u001b[0marr\u001b[0m\u001b[0;34m)\u001b[0m\u001b[0;34m,\u001b[0m \u001b[0mmax\u001b[0m\u001b[0;34m(\u001b[0m\u001b[0marr\u001b[0m\u001b[0;34m)\u001b[0m\u001b[0;34m)\u001b[0m\u001b[0;34m\u001b[0m\u001b[0;34m\u001b[0m\u001b[0m\n\u001b[0m",
      "\u001b[0;31mNameError\u001b[0m: name 'mean' is not defined"
     ]
    }
   ],
   "source": [
    "arr = [0] * 100\n",
    "X = np.random.normal(0, 1, (10000, 4000))\n",
    "Z = np.random.randint(0, 1, (10000, 2000))  \n",
    "trX = np.trace(X.T @ X)\n",
    "for i in range(100):\n",
    "    time_start = time.time()\n",
    "    ans = lp(trX = trX, X = X, Z = Z, sigma_X = 1, sigma_A = 1)\n",
    "    arr[i] = time.time() - time_start\n",
    "    print(i, arr[i])\n",
    "print(np.mean(arr[60:]), np.max(arr[60:]))"
   ]
  },
  {
   "cell_type": "code",
   "execution_count": 14,
   "metadata": {},
   "outputs": [
    {
     "output_type": "stream",
     "name": "stdout",
     "text": "4.822995638847351 5.329227924346924\n"
    }
   ],
   "source": [
    "print(np.mean(arr[60:]), np.max(arr[60:]))"
   ]
  },
  {
   "cell_type": "code",
   "execution_count": 15,
   "metadata": {},
   "outputs": [
    {
     "output_type": "stream",
     "name": "stdout",
     "text": "\n*** Profile stats marshalled to file 'test.prof'. \n"
    }
   ],
   "source": [
    "%prun -q -D test.prof diffs = test_lp(N = 1000, D = 20, K = 10, times = 10000, sigma_X = 1, sigma_A = 1)"
   ]
  },
  {
   "cell_type": "code",
   "execution_count": 13,
   "metadata": {},
   "outputs": [
    {
     "output_type": "stream",
     "name": "stdout",
     "text": "Fri Apr 24 19:25:57 2020    test.prof\n\n         840005 function calls in 42.547 seconds\n\n   Random listing order was used\n\n   ncalls  tottime  percall  cumtime  percall filename:lineno(function)\n    40000    0.012    0.000    0.012    0.000 {method 'get' of 'dict' objects}\n    20000    0.005    0.000    0.005    0.000 {method 'items' of 'dict' objects}\n        1    0.000    0.000   42.547   42.547 {built-in method builtins.exec}\n    20000    0.009    0.000    0.009    0.000 {built-in method builtins.getattr}\n    30000    0.023    0.000    0.023    0.000 {built-in method builtins.isinstance}\n    90000    0.014    0.000    0.014    0.000 {built-in method builtins.issubclass}\n    10000    0.067    0.000    0.067    0.000 {built-in method builtins.sum}\n        1    0.000    0.000    0.000    0.000 {method 'disable' of '_lsprof.Profiler' objects}\n    10000   23.538    0.002   30.674    0.003 <ipython-input-1-647e06f663af>:1(lp_original)\n    10000    0.589    0.000    2.671    0.000 <ipython-input-1-647e06f663af>:12(lp)\n        1    0.514    0.514   42.547   42.547 <ipython-input-3-6e7a5923561b>:1(test_lp)\n    30000    0.013    0.000    0.027    0.000 /Users/bo/anaconda3/lib/python3.7/site-packages/numpy/core/numeric.py:469(asarray)\n    20000    0.019    0.000    0.048    0.000 /Users/bo/anaconda3/lib/python3.7/site-packages/numpy/core/numeric.py:541(asanyarray)\n    20000    0.018    0.000    0.018    0.000 /Users/bo/anaconda3/lib/python3.7/site-packages/numpy/core/fromnumeric.py:70(<dictcomp>)\n    20000    0.065    0.000    0.215    0.000 /Users/bo/anaconda3/lib/python3.7/site-packages/numpy/core/fromnumeric.py:69(_wrapreduction)\n    20000    0.084    0.000    0.485    0.000 /Users/bo/anaconda3/lib/python3.7/site-packages/numpy/core/fromnumeric.py:1515(trace)\n    10000    0.018    0.000    0.118    0.000 /Users/bo/anaconda3/lib/python3.7/site-packages/numpy/core/fromnumeric.py:1966(sum)\n    10000    0.024    0.000    0.143    0.000 /Users/bo/anaconda3/lib/python3.7/site-packages/numpy/core/fromnumeric.py:2664(prod)\n    20000    0.029    0.000    0.029    0.000 /Users/bo/anaconda3/lib/python3.7/site-packages/numpy/linalg/linalg.py:111(get_linalg_error_extobj)\n    20000    0.032    0.000    0.061    0.000 /Users/bo/anaconda3/lib/python3.7/site-packages/numpy/linalg/linalg.py:116(_makearray)\n    60000    0.020    0.000    0.027    0.000 /Users/bo/anaconda3/lib/python3.7/site-packages/numpy/linalg/linalg.py:121(isComplexType)\n    40000    0.022    0.000    0.034    0.000 /Users/bo/anaconda3/lib/python3.7/site-packages/numpy/linalg/linalg.py:134(_realType)\n    30000    0.076    0.000    0.124    0.000 /Users/bo/anaconda3/lib/python3.7/site-packages/numpy/linalg/linalg.py:144(_commonType)\n    30000    0.026    0.000    0.026    0.000 /Users/bo/anaconda3/lib/python3.7/site-packages/numpy/linalg/linalg.py:203(_assertRankAtLeast2)\n    20000    0.011    0.000    0.011    0.000 /Users/bo/anaconda3/lib/python3.7/site-packages/numpy/linalg/linalg.py:209(_assertNdSquareness)\n    10000    0.227    0.000    0.339    0.000 /Users/bo/anaconda3/lib/python3.7/site-packages/numpy/linalg/linalg.py:486(inv)\n    10000    1.564    0.000    1.753    0.000 /Users/bo/anaconda3/lib/python3.7/site-packages/numpy/linalg/linalg.py:1468(svd)\n    10000    0.108    0.000    0.179    0.000 /Users/bo/anaconda3/lib/python3.7/site-packages/numpy/linalg/linalg.py:2040(det)\n    20000    0.219    0.000    6.357    0.000 /Users/bo/anaconda3/lib/python3.7/site-packages/numpy/lib/twodim_base.py:154(eye)\n        1    0.000    0.000   42.547   42.547 <string>:1(<module>)\n    30000    0.007    0.000    0.007    0.000 {method '__array_prepare__' of 'numpy.ndarray' objects}\n    40000    0.060    0.000    0.060    0.000 {method 'astype' of 'numpy.ndarray' objects}\n    20000    0.335    0.000    0.335    0.000 {method 'trace' of 'numpy.ndarray' objects}\n    50000    0.043    0.000    0.043    0.000 {built-in method numpy.array}\n    20001    6.138    0.000    6.138    0.000 {built-in method numpy.zeros}\n    10000    0.026    0.000    0.026    0.000 {method 'astype' of 'numpy.generic' objects}\n    20000    0.128    0.000    0.128    0.000 {method 'reduce' of 'numpy.ufunc' objects}\n    20000    8.464    0.000    8.464    0.000 {method 'normal' of 'mtrand.RandomState' objects}\n\n\n"
    }
   ],
   "source": [
    "import pstats\n",
    "p = pstats.Stats('test.prof')\n",
    "p.print_stats()\n",
    "pass\n",
    "(0.0, array([1.4094832 , 0.05192785]), array([1.515692  , 0.07405591]))"
   ]
  },
  {
   "cell_type": "code",
   "execution_count": null,
   "metadata": {},
   "outputs": [],
   "source": []
  }
 ],
 "metadata": {
  "kernelspec": {
   "display_name": "Python 3",
   "language": "python",
   "name": "python3"
  },
  "language_info": {
   "codemirror_mode": {
    "name": "ipython",
    "version": 3
   },
   "file_extension": ".py",
   "mimetype": "text/x-python",
   "name": "python",
   "nbconvert_exporter": "python",
   "pygments_lexer": "ipython3",
   "version": "3.7.3-final"
  }
 },
 "nbformat": 4,
 "nbformat_minor": 4
}