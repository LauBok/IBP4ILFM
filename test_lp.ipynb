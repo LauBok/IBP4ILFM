{
 "cells": [
  {
   "cell_type": "code",
   "execution_count": 1,
   "metadata": {},
   "outputs": [],
   "source": [
    "import numpy as np"
   ]
  },
  {
   "cell_type": "code",
   "execution_count": 2,
   "metadata": {},
   "outputs": [],
   "source": [
    "def lp_original(X, Z, sigma_X = None, sigma_A = None):\n",
    "    N, D = X.shape\n",
    "    K = Z.shape[1]\n",
    "    invMat = np.linalg.inv(Z.T @ Z + sigma_X**2 / sigma_A**2 * np.eye(K))\n",
    "    res = - N * D / 2 * np.log(2 * np.pi)\n",
    "    res -= (N - K) * D * np.log(sigma_X)\n",
    "    res -= K * D * np.log(sigma_A)\n",
    "    res += D / 2 * np.log(np.linalg.det(invMat))\n",
    "    res -= 1 / (2 * sigma_X**2) * np.trace(X.T @ (np.eye(N) - Z @ invMat @ Z.T) @ X)\n",
    "    return res\n",
    "\n",
    "def lp(X, Z, sigma_X = None, sigma_A = None):\n",
    "    N, D = X.shape\n",
    "    trX = np.trace(X.T @ X)\n",
    "    K = Z.shape[1]\n",
    "    \n",
    "    u, s, v = np.linalg.svd(Z,full_matrices=False)\n",
    "    det = np.prod(s**2 + sigma_X**2 / sigma_A**2 * np.ones(len(s)))\n",
    "    l = s**2 / (s**2 + sigma_X**2 / sigma_A**2 * np.ones(len(s)))\n",
    "    uTX = u.T @ X\n",
    "    uX = [np.linalg.norm(uTX[x,:])**2 for x in range(uTX.shape[0])]\n",
    "\n",
    "    res = - N * D / 2 * np.log(2 * np.pi)\n",
    "    res -= (N - K) * D * np.log(sigma_X)\n",
    "    res -= K * D * np.log(sigma_A)\n",
    "    res -= D / 2 * np.log(det)\n",
    "    res -= 1 / (2 * sigma_X**2) * (trX - sum(l * uX))\n",
    "    return res"
   ]
  },
  {
   "cell_type": "code",
   "execution_count": 3,
   "metadata": {},
   "outputs": [],
   "source": [
    "def test_lp(N, D, K, times, sigma_X, sigma_A):\n",
    "    if sigma_X is None:\n",
    "        sigma_X = 1\n",
    "    if sigma_A is None:\n",
    "        sigma_A = 1\n",
    "    diff = np.zeros(times)\n",
    "    diff[:] = np.nan\n",
    "    for i in range(times):\n",
    "        X = np.random.normal(0, 1, (N, D))\n",
    "        Z = np.random.normal(0, 1, (N, K))  \n",
    "        diff[i] = lp_original(X = X, Z = Z, sigma_X = 1, sigma_A = 1)-lp(X = X, Z = Z, sigma_X = 1, sigma_A = 1)\n",
    "    return diff"
   ]
  },
  {
   "cell_type": "code",
   "execution_count": 4,
   "metadata": {},
   "outputs": [
    {
     "data": {
      "text/plain": [
       "1.3642420526593924e-12"
      ]
     },
     "execution_count": 4,
     "metadata": {},
     "output_type": "execute_result"
    }
   ],
   "source": [
    "diffs = test_lp(200, 10, 20, 10000, 1, 1)\n",
    "max(abs(diffs))"
   ]
  },
  {
   "cell_type": "code",
   "execution_count": 5,
   "metadata": {},
   "outputs": [
    {
     "name": "stdout",
     "output_type": "stream",
     "text": [
      " \n",
      "*** Profile stats marshalled to file 'test.prof'. \n"
     ]
    }
   ],
   "source": [
    "%prun -q -D test.prof test_lp(200, 10, 20, 10000, 1, 1)"
   ]
  },
  {
   "cell_type": "code",
   "execution_count": 6,
   "metadata": {},
   "outputs": [
    {
     "name": "stdout",
     "output_type": "stream",
     "text": [
      "Thu Apr 23 22:05:31 2020    test.prof\n",
      "\n",
      "         3690005 function calls (3490005 primitive calls) in 16.249 seconds\n",
      "\n",
      "   Random listing order was used\n",
      "\n",
      "   ncalls  tottime  percall  cumtime  percall filename:lineno(function)\n",
      "    40000    0.016    0.000    0.016    0.000 {method 'get' of 'dict' objects}\n",
      "    10000    0.004    0.000    0.004    0.000 {method 'items' of 'dict' objects}\n",
      "        1    0.000    0.000   16.249   16.249 {built-in method builtins.exec}\n",
      "    20000    0.011    0.000    0.011    0.000 {built-in method builtins.getattr}\n",
      "    20000    0.015    0.000    0.015    0.000 {built-in method builtins.isinstance}\n",
      "   490000    0.099    0.000    0.099    0.000 {built-in method builtins.issubclass}\n",
      "    20000    0.007    0.000    0.007    0.000 {built-in method builtins.len}\n",
      "    10000    0.128    0.000    0.128    0.000 {built-in method builtins.sum}\n",
      "        1    0.000    0.000    0.000    0.000 {method 'disable' of '_lsprof.Profiler' objects}\n",
      "    10000    2.797    0.000    4.600    0.000 <ipython-input-2-f3609aeb8252>:1(lp_original)\n",
      "        1    0.000    0.000   16.249   16.249 <string>:1(<module>)\n",
      "   200000    0.040    0.000    0.040    0.000 /opt/anaconda3/lib/python3.7/site-packages/numpy/core/multiarray.py:707(dot)\n",
      "    20000    0.006    0.000    0.006    0.000 /opt/anaconda3/lib/python3.7/site-packages/numpy/core/multiarray.py:1043(copyto)\n",
      "   200000    0.178    0.000    0.627    0.000 <__array_function__ internals>:2(dot)\n",
      "    20000    0.033    0.000    0.115    0.000 <__array_function__ internals>:2(copyto)\n",
      "    30000    0.009    0.000    0.009    0.000 {method '__array_prepare__' of 'numpy.ndarray' objects}\n",
      "    40000    0.092    0.000    0.092    0.000 {method 'astype' of 'numpy.ndarray' objects}\n",
      "   200000    0.221    0.000    0.221    0.000 {method 'ravel' of 'numpy.ndarray' objects}\n",
      "    20000    0.256    0.000    0.256    0.000 {method 'trace' of 'numpy.ndarray' objects}\n",
      "   250000    0.138    0.000    0.138    0.000 {built-in method numpy.array}\n",
      "    20001    0.268    0.000    0.268    0.000 {built-in method numpy.zeros}\n",
      "    20000    0.072    0.000    0.072    0.000 {built-in method numpy.empty}\n",
      "480000/280000    0.790    0.000    7.581    0.000 {built-in method numpy.core._multiarray_umath.implement_array_function}\n",
      "    10000    0.044    0.000    0.044    0.000 {method 'astype' of 'numpy.generic' objects}\n",
      "    10000    0.080    0.000    0.080    0.000 {method 'reduce' of 'numpy.ufunc' objects}\n",
      "    20000    0.053    0.000    0.239    0.000 /opt/anaconda3/lib/python3.7/site-packages/numpy/core/numeric.py:159(ones)\n",
      "   230000    0.100    0.000    0.220    0.000 /opt/anaconda3/lib/python3.7/site-packages/numpy/core/_asarray.py:16(asarray)\n",
      "    20000    0.015    0.000    0.033    0.000 /opt/anaconda3/lib/python3.7/site-packages/numpy/core/_asarray.py:88(asanyarray)\n",
      "    10000    0.017    0.000    0.017    0.000 /opt/anaconda3/lib/python3.7/site-packages/numpy/core/fromnumeric.py:74(<dictcomp>)\n",
      "    10000    0.052    0.000    0.153    0.000 /opt/anaconda3/lib/python3.7/site-packages/numpy/core/fromnumeric.py:73(_wrapreduction)\n",
      "    20000    0.007    0.000    0.007    0.000 /opt/anaconda3/lib/python3.7/site-packages/numpy/core/fromnumeric.py:1620(_trace_dispatcher)\n",
      "    20000    0.055    0.000    0.358    0.000 /opt/anaconda3/lib/python3.7/site-packages/numpy/core/fromnumeric.py:1625(trace)\n",
      "    10000    0.004    0.000    0.004    0.000 /opt/anaconda3/lib/python3.7/site-packages/numpy/core/fromnumeric.py:2838(_prod_dispatcher)\n",
      "    10000    0.035    0.000    0.188    0.000 /opt/anaconda3/lib/python3.7/site-packages/numpy/core/fromnumeric.py:2843(prod)\n",
      "    20000    0.040    0.000    0.432    0.000 <__array_function__ internals>:2(trace)\n",
      "    10000    0.018    0.000    0.222    0.000 <__array_function__ internals>:2(prod)\n",
      "    20000    0.037    0.000    0.037    0.000 /opt/anaconda3/lib/python3.7/site-packages/numpy/linalg/linalg.py:111(get_linalg_error_extobj)\n",
      "    20000    0.036    0.000    0.071    0.000 /opt/anaconda3/lib/python3.7/site-packages/numpy/linalg/linalg.py:116(_makearray)\n",
      "   260000    0.117    0.000    0.163    0.000 /opt/anaconda3/lib/python3.7/site-packages/numpy/linalg/linalg.py:121(isComplexType)\n",
      "    40000    0.034    0.000    0.050    0.000 /opt/anaconda3/lib/python3.7/site-packages/numpy/linalg/linalg.py:134(_realType)\n",
      "    30000    0.100    0.000    0.166    0.000 /opt/anaconda3/lib/python3.7/site-packages/numpy/linalg/linalg.py:144(_commonType)\n",
      "    30000    0.029    0.000    0.029    0.000 /opt/anaconda3/lib/python3.7/site-packages/numpy/linalg/linalg.py:203(_assert_stacked_2d)\n",
      "    20000    0.021    0.000    0.021    0.000 /opt/anaconda3/lib/python3.7/site-packages/numpy/linalg/linalg.py:209(_assert_stacked_square)\n",
      "    20000    0.007    0.000    0.007    0.000 /opt/anaconda3/lib/python3.7/site-packages/numpy/linalg/linalg.py:478(_unary_dispatcher)\n",
      "    10000    0.458    0.000    0.633    0.000 /opt/anaconda3/lib/python3.7/site-packages/numpy/linalg/linalg.py:482(inv)\n",
      "    10000    0.003    0.000    0.003    0.000 /opt/anaconda3/lib/python3.7/site-packages/numpy/linalg/linalg.py:1454(_svd_dispatcher)\n",
      "    10000    2.965    0.000    3.176    0.000 /opt/anaconda3/lib/python3.7/site-packages/numpy/linalg/linalg.py:1458(svd)\n",
      "    10000    0.268    0.000    0.394    0.000 /opt/anaconda3/lib/python3.7/site-packages/numpy/linalg/linalg.py:2063(det)\n",
      "   200000    0.041    0.000    0.041    0.000 /opt/anaconda3/lib/python3.7/site-packages/numpy/linalg/linalg.py:2312(_norm_dispatcher)\n",
      "   200000    1.251    0.000    2.451    0.000 /opt/anaconda3/lib/python3.7/site-packages/numpy/linalg/linalg.py:2316(norm)\n",
      "    20000    0.175    0.000    0.442    0.000 /opt/anaconda3/lib/python3.7/site-packages/numpy/lib/twodim_base.py:154(eye)\n",
      "    10000    0.018    0.000    0.672    0.000 <__array_function__ internals>:2(inv)\n",
      "    10000    0.020    0.000    3.219    0.000 <__array_function__ internals>:2(svd)\n",
      "    10000    0.015    0.000    0.423    0.000 <__array_function__ internals>:2(det)\n",
      "   200000    0.184    0.000    2.896    0.000 <__array_function__ internals>:2(norm)\n",
      "    20000    2.847    0.000    2.847    0.000 {method 'normal' of 'numpy.random.mtrand.RandomState' objects}\n",
      "    10000    1.172    0.000    8.643    0.001 <ipython-input-2-f3609aeb8252>:12(lp)\n",
      "    10000    0.593    0.000    3.489    0.000 <ipython-input-2-f3609aeb8252>:21(<listcomp>)\n",
      "        1    0.157    0.157   16.249   16.249 <ipython-input-3-467f90174097>:1(test_lp)\n",
      "\n",
      "\n"
     ]
    }
   ],
   "source": [
    "import pstats\n",
    "p = pstats.Stats('test.prof')\n",
    "p.print_stats()\n",
    "pass"
   ]
  },
  {
   "cell_type": "code",
   "execution_count": null,
   "metadata": {},
   "outputs": [],
   "source": []
  }
 ],
 "metadata": {
  "kernelspec": {
   "display_name": "Python 3",
   "language": "python",
   "name": "python3"
  },
  "language_info": {
   "codemirror_mode": {
    "name": "ipython",
    "version": 3
   },
   "file_extension": ".py",
   "mimetype": "text/x-python",
   "name": "python",
   "nbconvert_exporter": "python",
   "pygments_lexer": "ipython3",
   "version": "3.7.6"
  }
 },
 "nbformat": 4,
 "nbformat_minor": 4
}
