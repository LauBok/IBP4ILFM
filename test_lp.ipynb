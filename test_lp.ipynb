{
 "cells": [
  {
   "cell_type": "code",
   "execution_count": 1,
   "metadata": {},
   "outputs": [],
   "source": [
    "%matplotlib inline\n",
    "import numpy as np\n",
    "import time\n",
    "from tqdm import tqdm,trange\n",
    "import matplotlib.pyplot as plt\n",
    "from sklearn.datasets import make_blobs\n",
    "from numba import jit, vectorize, float64, int64, njit, prange\n",
    "import math\n",
    "import random\n",
    "import sys\n",
    "import sympy "
   ]
  },
  {
   "cell_type": "code",
   "execution_count": 2,
   "metadata": {},
   "outputs": [],
   "source": [
    "def lp_original(trX, X, Z, sigma_X = None, sigma_A = None):\n",
    "    N, D = X.shape\n",
    "    K = Z.shape[1]\n",
    "    invMat = np.linalg.inv(Z.T @ Z + sigma_X**2 / sigma_A**2 * np.eye(K))\n",
    "    res = - N * D / 2 * np.log(2 * np.pi)\n",
    "    res -= (N - K) * D * np.log(sigma_X)\n",
    "    res -= K * D * np.log(sigma_A)\n",
    "    res += D / 2 * np.log(np.linalg.det(invMat))\n",
    "    res -= 1 / (2 * sigma_X**2) * np.trace(X.T @ (np.eye(N) - Z @ invMat @ Z.T) @ X)\n",
    "    return res   \n",
    "\n",
    "def lp(trX, X, Z = None, sigma_X = None, sigma_A = None):\n",
    "    N, D = X.shape\n",
    "    K = Z.shape[1]\n",
    "    u, s, _ = np.linalg.svd(Z,full_matrices=False)\n",
    "    det = np.sum(np.log(s**2 + sigma_X**2 / sigma_A**2))\n",
    "    l = s**2 / (s**2 + sigma_X**2 / sigma_A**2)\n",
    "    uTX = u.T @ X\n",
    "    uX = np.sum(uTX ** 2, axis = 1)\n",
    "\n",
    "    res = - N * D / 2 * np.log(2 * np.pi)\n",
    "    res -= (N - K) * D * np.log(sigma_X)\n",
    "    res -= K * D * np.log(sigma_A)\n",
    "    res -= D / 2 * det\n",
    "    res -= 1 / (2 * sigma_X**2) * (trX - sum(l * uX))\n",
    "    return res\n",
    "\n",
    "@jit\n",
    "def matrix_multiply_numba(A, B):\n",
    "    m, n = A.shape\n",
    "    n, p = B.shape\n",
    "    C = np.zeros((m, p))\n",
    "    for i in range(m):\n",
    "        for j in range(p):\n",
    "            for k in range(n):\n",
    "                C[i,j] += A[i,k] * B[k, j]\n",
    "    return C\n",
    "\n",
    "@jit(float64(float64, float64[:,:], float64[:,:], float64, float64))\n",
    "def lp_numba(trX, X, Z = None, sigma_X = None, sigma_A = None):\n",
    "    N, D = X.shape\n",
    "    K = Z.shape[1]\n",
    "    u, s, _ = np.linalg.svd(Z,full_matrices=False)\n",
    "    det = np.sum(np.log(s**2 + sigma_X**2 / sigma_A**2))\n",
    "    l = s**2 / (s**2 + sigma_X**2 / sigma_A**2)\n",
    "    uTX = matrix_multiply_numba(u.T, X)\n",
    "    uX = np.sum(uTX ** 2, axis = 1)\n",
    "\n",
    "    res = - N * D / 2 * np.log(2 * np.pi)\n",
    "    res -= (N - K) * D * np.log(sigma_X)\n",
    "    res -= K * D * np.log(sigma_A)\n",
    "    res -= D / 2 * det\n",
    "    res -= 1 / (2 * sigma_X**2) * (trX - np.sum(l * uX))\n",
    "    return res"
   ]
  },
  {
   "cell_type": "code",
   "execution_count": 3,
   "metadata": {},
   "outputs": [],
   "source": [
    "def test_lp(func1, func2, func3, N, D, K, times, sigma_X = None, sigma_A = None):\n",
    "    if sigma_X is None:\n",
    "        sigma_X = 1\n",
    "    if sigma_A is None:\n",
    "        sigma_A = 1\n",
    "    diff = np.zeros(times)\n",
    "    diff[:] = np.nan\n",
    "    time_arr = np.zeros((3, times))\n",
    "    with tqdm(total=times) as pbar:\n",
    "        for i in range(times):\n",
    "            X = np.random.normal(0, 1, (N, D))\n",
    "            Z = np.random.randint(0, 1, (N, K)) \n",
    "            Z = Z.astype('float')\n",
    "            trX = np.trace(X.T @ X)\n",
    "            time_start = time.time()\n",
    "            ans1 = func1(trX = trX, X = X, Z = Z, sigma_X = 1, sigma_A = 1)\n",
    "            time_arr[0, i] = time.time() - time_start\n",
    "            time_start = time.time()\n",
    "            ans2 = func2(trX = trX, X = X, Z = Z, sigma_X = 1, sigma_A = 1)\n",
    "            time_arr[1, i] = time.time() - time_start\n",
    "            time_start = time.time()\n",
    "            ans3 = func3(trX = trX, X = X, Z = Z, sigma_X = 1, sigma_A = 1)\n",
    "            time_arr[2, i] = time.time() - time_start\n",
    "            diff[i] = max(np.abs(ans2 - ans1), np.abs(ans3 - ans1), np.abs(ans3 - ans2))\n",
    "            pbar.update(1)\n",
    "    \n",
    "    return np.max(diff), np.mean(time_arr, axis = 1), np.max(time_arr, axis = 1)"
   ]
  },
  {
   "cell_type": "code",
   "execution_count": null,
   "metadata": {},
   "outputs": [],
   "source": [
    "diffs = test_lp(5000, 1000, 500, 100, 1, 1)\n",
    "print(diffs)"
   ]
  },
  {
   "cell_type": "code",
   "execution_count": null,
   "metadata": {},
   "outputs": [],
   "source": [
    "diffs = test_lp(5000, 2000, 500, 100, 1, 1)\n",
    "print(diffs)"
   ]
  },
  {
   "cell_type": "code",
   "execution_count": null,
   "metadata": {},
   "outputs": [],
   "source": [
    "diffs = test_lp(5000, 2000, 1000, 100, 1, 1)\n",
    "print(diffs)"
   ]
  },
  {
   "cell_type": "code",
   "execution_count": null,
   "metadata": {},
   "outputs": [],
   "source": [
    "diffs = test_lp(10000, 2000, 500, 100, 1, 1)\n",
    "print(diffs)"
   ]
  },
  {
   "cell_type": "code",
   "execution_count": null,
   "metadata": {},
   "outputs": [],
   "source": [
    "diffs = test_lp(10000, 2000, 1000, 100, 1, 1)\n",
    "print(diffs)"
   ]
  },
  {
   "cell_type": "code",
   "execution_count": null,
   "metadata": {},
   "outputs": [],
   "source": [
    "diffs = test_lp(10000, 4000, 1000, 100, 1, 1)\n",
    "print(diffs)"
   ]
  },
  {
   "cell_type": "code",
   "execution_count": null,
   "metadata": {},
   "outputs": [],
   "source": [
    "arr = [0] * 100\n",
    "X = np.random.normal(0, 1, (10000, 4000))\n",
    "Z = np.random.randint(0, 1, (10000, 2000))  \n",
    "trX = np.trace(X.T @ X)\n",
    "for i in range(100):\n",
    "    time_start = time.time()\n",
    "    ans = lp(trX = trX, X = X, Z = Z, sigma_X = 1, sigma_A = 1)\n",
    "    arr[i] = time.time() - time_start\n",
    "    print(i, arr[i])\n",
    "print(np.mean(arr[60:]), np.max(arr[60:]))"
   ]
  },
  {
   "cell_type": "code",
   "execution_count": null,
   "metadata": {},
   "outputs": [],
   "source": [
    "print(np.mean(arr[60:]), np.max(arr[60:]))"
   ]
  },
  {
   "cell_type": "code",
   "execution_count": null,
   "metadata": {},
   "outputs": [],
   "source": [
    "%prun -q -D test.prof diffs = test_lp(N = 1000, D = 20, K = 10, times = 10000, sigma_X = 1, sigma_A = 1)"
   ]
  },
  {
   "cell_type": "code",
   "execution_count": null,
   "metadata": {},
   "outputs": [],
   "source": [
    "import pstats\n",
    "p = pstats.Stats('test.prof')\n",
    "p.print_stats()\n",
    "pass\n",
    "(0.0, array([1.4094832 , 0.05192785]), array([1.515692  , 0.07405591]))"
   ]
  },
  {
   "cell_type": "code",
   "execution_count": null,
   "metadata": {},
   "outputs": [],
   "source": []
  },
  {
   "cell_type": "code",
   "execution_count": null,
   "metadata": {},
   "outputs": [
    {
     "name": "stderr",
     "output_type": "stream",
     "text": [
      " 83%|████████▎ | 828/1000 [04:09<00:49,  3.50it/s]"
     ]
    }
   ],
   "source": [
    "diffs = test_lp(lp_original, lp, lp_numba, 1000, 400, 200, 1000, 1, 1)\n",
    "print(\"difference:\", diffs[0], \"\\n mean time for each lp function:\", diffs[1], \"\\n max time for each lp function:\", diffs[2])"
   ]
  },
  {
   "cell_type": "code",
   "execution_count": null,
   "metadata": {},
   "outputs": [],
   "source": []
  },
  {
   "cell_type": "code",
   "execution_count": null,
   "metadata": {},
   "outputs": [],
   "source": [
    "%load_ext cython"
   ]
  },
  {
   "cell_type": "markdown",
   "metadata": {},
   "source": [
    "## unfinish: need to write SVD"
   ]
  },
  {
   "cell_type": "code",
   "execution_count": null,
   "metadata": {},
   "outputs": [],
   "source": [
    "%%cython -a\n",
    "\n",
    "import cython\n",
    "from libc.math cimport log, M_PI\n",
    "\n",
    "@cython.boundscheck(False)\n",
    "@cython.wraparound(False)\n",
    "@cython.cdivision(True)\n",
    "def lp_cython(double trX, double[:,:] X, double[:,:] Z, double sigma_X, double sigma_A):\n",
    "    cdef int N,D,K\n",
    "    cdef double[:,:] u\n",
    "    cdef double[:] s\n",
    "    cdef double[:,:] _\n",
    "    cdef double[:] l\n",
    "    cdef double det = 0\n",
    "    cdef double[:,:] uTX\n",
    "    cdef double[:] uX\n",
    "    cdef double res\n",
    "\n",
    "    N = X.shape[0]\n",
    "    D = X.shape[1]\n",
    "    K = Z.shape[1]\n",
    "    u = np.linalg.svd(Z,full_matrices=False)[0]\n",
    "    s = np.linalg.svd(Z,full_matrices=False)[1]\n",
    "    _ = np.linalg.svd(Z,full_matrices=False)[2]\n",
    "    \n",
    "    for i in range(sizeof(s)/sizeof(*s)):\n",
    "        det += log(pow(s[i],2) + pow(sigma_X,2) / pow(sigma_A,2))\n",
    "        l[i] = pow(s[i],2) / (pow(s[i],2) + pow(sigma_X,2) / pow(sigma_A,2))\n",
    "        for j in range(D):\n",
    "            for k in range(N):\n",
    "                uTX[i,j] += u[k,i] * X[k, j]\n",
    "            uX[i] += uTX[i,j]^2\n",
    "        prod += l[i] * uX[i]\n",
    "    \n",
    "    res = - N * D / 2 * log(2 * M_PI)\n",
    "    res -= (N - K) * D * log(sigma_X)\n",
    "    res -= K * D * log(sigma_A)\n",
    "    res -= D / 2 * det\n",
    "    res -= 1 / (2 * sigma_X**2) * (trX - prod)\n",
    "    return res"
   ]
  },
  {
   "cell_type": "code",
   "execution_count": null,
   "metadata": {},
   "outputs": [],
   "source": []
  }
 ],
 "metadata": {
  "kernelspec": {
   "display_name": "Python 3",
   "language": "python",
   "name": "python3"
  },
  "language_info": {
   "codemirror_mode": {
    "name": "ipython",
    "version": 3
   },
   "file_extension": ".py",
   "mimetype": "text/x-python",
   "name": "python",
   "nbconvert_exporter": "python",
   "pygments_lexer": "ipython3",
   "version": "3.7.6"
  }
 },
 "nbformat": 4,
 "nbformat_minor": 4
}
