{
 "nbformat": 4,
 "nbformat_minor": 2,
 "metadata": {
  "language_info": {
   "name": "python",
   "codemirror_mode": {
    "name": "ipython",
    "version": 3
   },
   "version": "3.7.3-final"
  },
  "orig_nbformat": 2,
  "file_extension": ".py",
  "mimetype": "text/x-python",
  "name": "python",
  "npconvert_exporter": "python",
  "pygments_lexer": "ipython3",
  "version": 3,
  "kernelspec": {
   "name": "python3",
   "display_name": "Python 3"
  }
 },
 "cells": [
  {
   "cell_type": "code",
   "execution_count": 2,
   "metadata": {},
   "outputs": [],
   "source": [
    "import numpy as np\n",
    "from scipy import linalg "
   ]
  },
  {
   "cell_type": "code",
   "execution_count": 126,
   "metadata": {},
   "outputs": [],
   "source": [
    "def Gibbs(X, maxiter = 1000, sigma_X = 1, sigma_A = 1, a = 1, b = 1):\n",
    "    N, D = X.shape\n",
    "\n",
    "    ### Initialize\n",
    "    Z = np.zeros((N, 1))\n",
    "    while np.sum(Z) == 0:\n",
    "        Z = np.random.binomial(1, 0.5, size = (N, 1))\n",
    "    K_plus = 1\n",
    "    alpha = np.random.gamma(a, b, size = 1)\n",
    "    H_N = sum(1 / np.arange(1, N + 1))\n",
    "\n",
    "    ### Likelihood\n",
    "    def LR(X, Z, i, k, sigma_X, sigma_A):\n",
    "        # Let Z_{ik} be 1\n",
    "        Z0 = Z * 1\n",
    "        Z1 = Z * 1\n",
    "        Z0[i, k] = 0\n",
    "        Z1[i, k] = 1\n",
    "        K = Z.shape[1]\n",
    "        Mat0 = (sigma_A ** 2 / sigma_X ** 2) * Z0.T @ Z0 + np.eye(K)\n",
    "        Mat1 = (sigma_A ** 2 / sigma_X ** 2) * Z1.T @ Z1 + np.eye(K)\n",
    "        #print('det', linalg.det(Mat0), linalg.det(Mat1))\n",
    "        logcoef = D / 2 * (np.log(linalg.det(Mat0)) - np.log(linalg.det(Mat1)))\n",
    "        expo = -sigma_A**2 / (2*sigma_X**4) * np.trace(X.T @ (Z0 @ linalg.inv(Mat0) @ Z0.T - Z1 @ linalg.inv(Mat1) @ Z1.T) @ X)\n",
    "        #print(expo, logcoef)\n",
    "        return np.exp(expo - logcoef)\n",
    "\n",
    "    ### MCMC\n",
    "    for it in range(maxiter):\n",
    "        print(it)\n",
    "        res = {'K': np.zeros(maxiter), 'alpha': np.zeros(maxiter), 'Z': [None] * maxiter}\n",
    "        ## Update Z matrix\n",
    "        for i in range(N):\n",
    "            # 1. update Z_{ik}\n",
    "            count = 0\n",
    "            for k in range(K_plus):\n",
    "                r = sum(Z[:, k]) - Z[i, k]   # m_{-i, k}\n",
    "                if r < 1:\n",
    "                    Z[i, k] = 0\n",
    "                    count += 1\n",
    "                else:\n",
    "                    prob_ratio = LR(X, Z, i, k, sigma_X, sigma_A) * r / (N - r)\n",
    "                    prob = prob_ratio / (1 + prob_ratio)\n",
    "                    Z[i, k] = np.random.binomial(1, prob, size = 1)\n",
    "                    #print(\"prob = \", prob, f\"Z[{i}, {k}]\", Z[i, k])\n",
    "            # 2. delete unused columns\n",
    "            # print(np.sum(Z, axis = 0))\n",
    "            out = np.sum(Z, axis = 0) - Z[i, :]\n",
    "            print(count, sum(out == 0), K_plus)\n",
    "            Z = Z[:, out != 0]\n",
    "            _, K_plus = Z.shape\n",
    "            # 3. generate new columns\n",
    "            K_new = int(np.random.poisson(alpha / N, size = 1)) \n",
    "            # The number of new features follows Poisson.\n",
    "            if K_new:\n",
    "                Z = np.c_[Z, np.zeros((N, K_new))]\n",
    "                Z[i, -K_new::] = 1\n",
    "            K_plus += K_new            \n",
    "            \n",
    "        ## Update alpha\n",
    "        alpha = np.random.gamma(a + K_plus, b + H_N, size = 1)\n",
    "        \n",
    "        res['K'][it] = K_plus\n",
    "        res['alpha'][it] = alpha\n",
    "        res['Z'][it] = Z * 1\n",
    "    return res"
   ]
  },
  {
   "cell_type": "code",
   "execution_count": 127,
   "metadata": {
    "tags": [
     "outputPrepend",
     "outputPrepend",
     "outputPrepend",
     "outputPrepend",
     "outputPrepend",
     "outputPrepend",
     "outputPrepend",
     "outputPrepend",
     "outputPrepend",
     "outputPrepend",
     "outputPrepend",
     "outputPrepend",
     "outputPrepend",
     "outputPrepend",
     "outputPrepend",
     "outputPrepend",
     "outputPrepend",
     "outputPrepend",
     "outputPrepend",
     "outputPrepend",
     "outputPrepend",
     "outputPrepend",
     "outputPrepend",
     "outputPrepend",
     "outputPrepend",
     "outputPrepend",
     "outputPrepend",
     "outputPrepend",
     "outputPrepend",
     "outputPrepend"
    ]
   },
   "outputs": [
    {
     "output_type": "stream",
     "name": "stdout",
     "text": "0\n0 0 1\n0 0 1\n0 0 1\n0 0 1\n0 0 1\n0 0 1\n0 0 1\n0 0 1\n0 0 1\n0 0 1\n0 0 1\n0 0 1\n0 0 1\n0 0 1\n0 0 1\n0 0 1\n0 0 1\n0 0 1\n0 0 1\n0 0 1\n0 0 1\n0 0 1\n0 0 1\n0 0 1\n0 0 1\n0 0 1\n0 0 1\n0 0 1\n0 0 1\n0 0 1\n0 0 1\n0 0 1\n0 0 1\n0 0 1\n0 0 1\n0 0 1\n0 0 1\n0 0 1\n0 0 1\n0 0 1\n0 0 1\n0 0 1\n0 0 1\n0 0 1\n0 0 1\n0 0 1\n0 0 1\n0 0 1\n0 0 1\n0 0 1\n0 0 1\n0 0 1\n0 0 1\n0 0 1\n0 0 1\n0 0 1\n0 0 1\n0 0 1\n0 0 1\n0 0 1\n0 0 1\n0 0 1\n0 0 1\n0 0 1\n0 0 1\n0 0 1\n0 0 1\n0 0 1\n0 0 1\n0 0 1\n0 0 1\n0 0 1\n0 0 1\n0 0 1\n0 0 1\n0 0 1\n0 0 1\n0 0 1\n0 0 1\n0 0 1\n0 0 1\n0 0 1\n0 0 1\n0 0 1\n0 0 1\n0 0 1\n0 0 1\n0 0 1\n0 0 1\n0 0 1\n0 0 1\n0 0 1\n0 0 1\n0 0 1\n0 0 1\n0 0 1\n0 0 1\n0 0 1\n0 0 1\n0 0 1\n1\n0 0 1\n0 0 1\n0 0 1\n0 0 1\n0 0 1\n0 0 1\n0 0 1\n0 0 1\n0 0 1\n0 0 2\n0 0 2\n0 0 2\n0 0 2\n0 0 2\n0 0 3\n0 0 4\n0 0 4\n0 0 4\n0 0 4\n0 0 4\n0 0 4\n0 0 4\n0 0 4\n0 0 4\n0 0 5\n0 0 6\n0 0 6\n0 0 6\n0 0 6\n0 0 6\n0 0 6\n0 0 7\n0 0 7\n0 0 7\n0 0 7\n0 0 7\n0 0 7\n0 0 7\n0 0 7\n0 0 7\n0 0 7\n0 0 8\n0 0 8\n0 0 8\n0 0 8\n0 0 8\n0 0 9\n0 0 9\n0 0 9\n0 0 9\n0 0 9\n0 0 9\n0 0 9\n0 0 9\n0 0 10\n0 0 10\n0 0 10\n0 0 10\n0 0 10\n0 0 10\n0 0 10\n0 0 10\n0 0 10\n0 0 10\n0 0 10\n0 0 10\n0 0 10\n0 0 10\n0 0 10\n0 0 10\n0 0 10\n0 0 10\n0 0 10\n0 0 10\n0 0 10\n0 0 10\n0 0 11\n0 0 11\n0 0 11\n0 0 11\n0 0 11\n0 0 11\n0 0 11\n0 0 11\n0 0 11\n0 0 11\n0 0 11\n0 0 11\n0 0 11\n0 0 11\n0 0 11\n0 0 11\n0 0 11\n0 0 11\n0 0 11\n0 0 11\n0 0 11\n0 0 11\n0 0 11\n0 0 12\n2\n0 0 12\n0 0 13\n0 0 13\n0 0 13\n0 0 14\n0 0 14\n0 0 15\n0 0 15\n0 0 15\n0 0 17\n0 0 18\n0 0 18\n0 0 18\n0 0 18\n0 0 19\n0 0 19\n0 0 19\n0 0 19\n0 0 19\n0 0 19\n0 0 19\n0 0 20\n0 0 20\n0 0 20\n0 0 20\n0 0 20\n0 0 21\n0 0 21\n0 0 22\n0 0 22\n0 0 22\n0 0 23\n0 0 23\n0 0 24\n0 0 24\n0 0 24\n0 0 25\n0 0 25\n0 0 25\n0 0 25\n0 0 27\n0 0 28\n0 0 29\n0 0 29\n0 0 29\n0 0 29\n0 0 29\n0 0 29\n0 0 30\n0 0 30\n0 0 30\n0 0 31\n0 0 31\n0 0 32\n0 0 32\n0 0 32\n0 0 32\n0 0 32\n0 0 32\n0 0 34\n0 0 34\n0 0 35\n0 0 35\n0 0 36\n0 0 36\n0 0 36\n0 0 36\n0 0 36\n0 0 37\n0 0 37\n0 0 37\n0 0 37\n0 0 37\n0 0 38\n0 0 38\n0 0 39\n0 0 40\n0 0 40\n0 0 42\n0 0 42\n0 0 42\n0 0 42\n0 0 42\n0 0 42\n0 0 45\n0 0 46\n0 0 46\n0 0 47\n0 0 48\n0 0 48\n0 0 48\n0 0 48\n0 0 48\n0 0 49\n0 0 51\n0 0 51\n0 0 51\n0 0 51\n0 0 51\n0 0 51\n3\n0 0 52\n0 0 57\n0 0 59\n0 0 64\n0 0 66\n0 0 67\n0 0 71\n0 0 74\n0 0 77\n0 0 80\n"
    },
    {
     "output_type": "error",
     "ename": "KeyboardInterrupt",
     "evalue": "",
     "traceback": [
      "\u001b[0;31m---------------------------------------------------------------------------\u001b[0m",
      "\u001b[0;31mKeyboardInterrupt\u001b[0m                         Traceback (most recent call last)",
      "\u001b[0;32m<ipython-input-127-763e457ce26d>\u001b[0m in \u001b[0;36m<module>\u001b[0;34m\u001b[0m\n\u001b[1;32m      1\u001b[0m \u001b[0mX\u001b[0m \u001b[0;34m=\u001b[0m \u001b[0mnp\u001b[0m\u001b[0;34m.\u001b[0m\u001b[0mrandom\u001b[0m\u001b[0;34m.\u001b[0m\u001b[0mrandom\u001b[0m\u001b[0;34m(\u001b[0m\u001b[0;34m(\u001b[0m\u001b[0;36m100\u001b[0m\u001b[0;34m,\u001b[0m\u001b[0;36m2\u001b[0m\u001b[0;34m)\u001b[0m\u001b[0;34m)\u001b[0m \u001b[0;34m@\u001b[0m \u001b[0mnp\u001b[0m\u001b[0;34m.\u001b[0m\u001b[0mrandom\u001b[0m\u001b[0;34m.\u001b[0m\u001b[0mrandom\u001b[0m\u001b[0;34m(\u001b[0m\u001b[0;34m(\u001b[0m\u001b[0;36m2\u001b[0m\u001b[0;34m,\u001b[0m \u001b[0;36m50\u001b[0m\u001b[0;34m)\u001b[0m\u001b[0;34m)\u001b[0m \u001b[0;34m+\u001b[0m \u001b[0;36m1\u001b[0m\u001b[0;34m\u001b[0m\u001b[0;34m\u001b[0m\u001b[0m\n\u001b[0;32m----> 2\u001b[0;31m \u001b[0mres\u001b[0m \u001b[0;34m=\u001b[0m \u001b[0mGibbs\u001b[0m\u001b[0;34m(\u001b[0m\u001b[0mX\u001b[0m\u001b[0;34m,\u001b[0m \u001b[0mmaxiter\u001b[0m \u001b[0;34m=\u001b[0m \u001b[0;36m5\u001b[0m\u001b[0;34m,\u001b[0m \u001b[0msigma_A\u001b[0m \u001b[0;34m=\u001b[0m \u001b[0;36m1\u001b[0m\u001b[0;34m)\u001b[0m\u001b[0;34m\u001b[0m\u001b[0;34m\u001b[0m\u001b[0m\n\u001b[0m",
      "\u001b[0;32m<ipython-input-126-cc0076831947>\u001b[0m in \u001b[0;36mGibbs\u001b[0;34m(X, maxiter, sigma_X, sigma_A, a, b)\u001b[0m\n\u001b[1;32m     40\u001b[0m                     \u001b[0mcount\u001b[0m \u001b[0;34m+=\u001b[0m \u001b[0;36m1\u001b[0m\u001b[0;34m\u001b[0m\u001b[0;34m\u001b[0m\u001b[0m\n\u001b[1;32m     41\u001b[0m                 \u001b[0;32melse\u001b[0m\u001b[0;34m:\u001b[0m\u001b[0;34m\u001b[0m\u001b[0;34m\u001b[0m\u001b[0m\n\u001b[0;32m---> 42\u001b[0;31m                     \u001b[0mprob_ratio\u001b[0m \u001b[0;34m=\u001b[0m \u001b[0mLR\u001b[0m\u001b[0;34m(\u001b[0m\u001b[0mX\u001b[0m\u001b[0;34m,\u001b[0m \u001b[0mZ\u001b[0m\u001b[0;34m,\u001b[0m \u001b[0mi\u001b[0m\u001b[0;34m,\u001b[0m \u001b[0mk\u001b[0m\u001b[0;34m,\u001b[0m \u001b[0msigma_X\u001b[0m\u001b[0;34m,\u001b[0m \u001b[0msigma_A\u001b[0m\u001b[0;34m)\u001b[0m \u001b[0;34m*\u001b[0m \u001b[0mr\u001b[0m \u001b[0;34m/\u001b[0m \u001b[0;34m(\u001b[0m\u001b[0mN\u001b[0m \u001b[0;34m-\u001b[0m \u001b[0mr\u001b[0m\u001b[0;34m)\u001b[0m\u001b[0;34m\u001b[0m\u001b[0;34m\u001b[0m\u001b[0m\n\u001b[0m\u001b[1;32m     43\u001b[0m                     \u001b[0mprob\u001b[0m \u001b[0;34m=\u001b[0m \u001b[0mprob_ratio\u001b[0m \u001b[0;34m/\u001b[0m \u001b[0;34m(\u001b[0m\u001b[0;36m1\u001b[0m \u001b[0;34m+\u001b[0m \u001b[0mprob_ratio\u001b[0m\u001b[0;34m)\u001b[0m\u001b[0;34m\u001b[0m\u001b[0;34m\u001b[0m\u001b[0m\n\u001b[1;32m     44\u001b[0m                     \u001b[0mZ\u001b[0m\u001b[0;34m[\u001b[0m\u001b[0mi\u001b[0m\u001b[0;34m,\u001b[0m \u001b[0mk\u001b[0m\u001b[0;34m]\u001b[0m \u001b[0;34m=\u001b[0m \u001b[0mnp\u001b[0m\u001b[0;34m.\u001b[0m\u001b[0mrandom\u001b[0m\u001b[0;34m.\u001b[0m\u001b[0mbinomial\u001b[0m\u001b[0;34m(\u001b[0m\u001b[0;36m1\u001b[0m\u001b[0;34m,\u001b[0m \u001b[0mprob\u001b[0m\u001b[0;34m,\u001b[0m \u001b[0msize\u001b[0m \u001b[0;34m=\u001b[0m \u001b[0;36m1\u001b[0m\u001b[0;34m)\u001b[0m\u001b[0;34m\u001b[0m\u001b[0;34m\u001b[0m\u001b[0m\n",
      "\u001b[0;32m<ipython-input-126-cc0076831947>\u001b[0m in \u001b[0;36mLR\u001b[0;34m(X, Z, i, k, sigma_X, sigma_A)\u001b[0m\n\u001b[1;32m     18\u001b[0m         \u001b[0mZ1\u001b[0m\u001b[0;34m[\u001b[0m\u001b[0mi\u001b[0m\u001b[0;34m,\u001b[0m \u001b[0mk\u001b[0m\u001b[0;34m]\u001b[0m \u001b[0;34m=\u001b[0m \u001b[0;36m1\u001b[0m\u001b[0;34m\u001b[0m\u001b[0;34m\u001b[0m\u001b[0m\n\u001b[1;32m     19\u001b[0m         \u001b[0mK\u001b[0m \u001b[0;34m=\u001b[0m \u001b[0mZ\u001b[0m\u001b[0;34m.\u001b[0m\u001b[0mshape\u001b[0m\u001b[0;34m[\u001b[0m\u001b[0;36m1\u001b[0m\u001b[0;34m]\u001b[0m\u001b[0;34m\u001b[0m\u001b[0;34m\u001b[0m\u001b[0m\n\u001b[0;32m---> 20\u001b[0;31m         \u001b[0mMat0\u001b[0m \u001b[0;34m=\u001b[0m \u001b[0;34m(\u001b[0m\u001b[0msigma_A\u001b[0m \u001b[0;34m**\u001b[0m \u001b[0;36m2\u001b[0m \u001b[0;34m/\u001b[0m \u001b[0msigma_X\u001b[0m \u001b[0;34m**\u001b[0m \u001b[0;36m2\u001b[0m\u001b[0;34m)\u001b[0m \u001b[0;34m*\u001b[0m \u001b[0mZ0\u001b[0m\u001b[0;34m.\u001b[0m\u001b[0mT\u001b[0m \u001b[0;34m@\u001b[0m \u001b[0mZ0\u001b[0m \u001b[0;34m+\u001b[0m \u001b[0mnp\u001b[0m\u001b[0;34m.\u001b[0m\u001b[0meye\u001b[0m\u001b[0;34m(\u001b[0m\u001b[0mK\u001b[0m\u001b[0;34m)\u001b[0m\u001b[0;34m\u001b[0m\u001b[0;34m\u001b[0m\u001b[0m\n\u001b[0m\u001b[1;32m     21\u001b[0m         \u001b[0mMat1\u001b[0m \u001b[0;34m=\u001b[0m \u001b[0;34m(\u001b[0m\u001b[0msigma_A\u001b[0m \u001b[0;34m**\u001b[0m \u001b[0;36m2\u001b[0m \u001b[0;34m/\u001b[0m \u001b[0msigma_X\u001b[0m \u001b[0;34m**\u001b[0m \u001b[0;36m2\u001b[0m\u001b[0;34m)\u001b[0m \u001b[0;34m*\u001b[0m \u001b[0mZ1\u001b[0m\u001b[0;34m.\u001b[0m\u001b[0mT\u001b[0m \u001b[0;34m@\u001b[0m \u001b[0mZ1\u001b[0m \u001b[0;34m+\u001b[0m \u001b[0mnp\u001b[0m\u001b[0;34m.\u001b[0m\u001b[0meye\u001b[0m\u001b[0;34m(\u001b[0m\u001b[0mK\u001b[0m\u001b[0;34m)\u001b[0m\u001b[0;34m\u001b[0m\u001b[0;34m\u001b[0m\u001b[0m\n\u001b[1;32m     22\u001b[0m         \u001b[0;31m#print('det', linalg.det(Mat0), linalg.det(Mat1))\u001b[0m\u001b[0;34m\u001b[0m\u001b[0;34m\u001b[0m\u001b[0;34m\u001b[0m\u001b[0m\n",
      "\u001b[0;31mKeyboardInterrupt\u001b[0m: "
     ]
    }
   ],
   "source": [
    "X = np.random.random((100,2)) @ np.random.random((2, 50)) + 1\n",
    "res = Gibbs(X, maxiter = 5, sigma_A = 1)"
   ]
  },
  {
   "cell_type": "code",
   "execution_count": 116,
   "metadata": {},
   "outputs": [
    {
     "output_type": "execute_result",
     "data": {
      "text/plain": "array([  0.,   0.,   0.,   0., 108.])"
     },
     "metadata": {},
     "execution_count": 116
    }
   ],
   "source": [
    "res['K']"
   ]
  },
  {
   "cell_type": "code",
   "execution_count": 36,
   "metadata": {},
   "outputs": [
    {
     "output_type": "execute_result",
     "data": {
      "text/plain": "(50,)"
     },
     "metadata": {},
     "execution_count": 36
    }
   ],
   "source": [
    "X = np.random.random((100,50))\n",
    "np.sum(X, axis = 0).shape"
   ]
  },
  {
   "cell_type": "code",
   "execution_count": 86,
   "metadata": {},
   "outputs": [
    {
     "output_type": "execute_result",
     "data": {
      "text/plain": "array([[13.30326217,  2.25111066,  3.71189545,  1.02025584,  2.09428824],\n       [ 2.25111066, 14.47766474,  4.77933367,  1.32334789,  2.72124749],\n       [ 3.71189545,  4.77933367, 19.48166406,  2.16481968,  4.43753757],\n       [ 1.02025584,  1.32334789,  2.16481968, 12.16031459,  1.23488985],\n       [ 2.09428824,  2.72124749,  4.43753757,  1.23488985, 14.10238599]])"
     },
     "metadata": {},
     "execution_count": 86
    }
   ],
   "source": [
    "X.T @ X + (1.7 ** 2 / 0.5 ** 2) * np.eye(5)"
   ]
  },
  {
   "cell_type": "code",
   "execution_count": null,
   "metadata": {},
   "outputs": [],
   "source": []
  }
 ]
}