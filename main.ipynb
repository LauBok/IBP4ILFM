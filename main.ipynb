{
 "nbformat": 4,
 "nbformat_minor": 2,
 "metadata": {
  "language_info": {
   "name": "python",
   "codemirror_mode": {
    "name": "ipython",
    "version": 3
   },
   "version": "3.7.3-final"
  },
  "orig_nbformat": 2,
  "file_extension": ".py",
  "mimetype": "text/x-python",
  "name": "python",
  "npconvert_exporter": "python",
  "pygments_lexer": "ipython3",
  "version": 3,
  "kernelspec": {
   "name": "python3",
   "display_name": "Python 3"
  }
 },
 "cells": [
  {
   "cell_type": "code",
   "execution_count": 1,
   "metadata": {},
   "outputs": [],
   "source": [
    "import numpy as np\n",
    "from scipy import linalg \n",
    "from IBP import *"
   ]
  },
  {
   "cell_type": "code",
   "execution_count": 2,
   "metadata": {},
   "outputs": [],
   "source": [
    "X = np.random.random((100,2)) @ np.random.random((2, 50)) + 1\n",
    "ibp = IBP(X)"
   ]
  },
  {
   "cell_type": "code",
   "execution_count": null,
   "metadata": {},
   "outputs": [],
   "source": [
    "def Gibbs(X, maxiter = 1000, sigma_X = 1, sigma_A = 1, a = 1, b = 1):\n",
    "    N, D = X.shape\n",
    "\n",
    "    ### Initialize\n",
    "    Z = np.zeros((N, 1))\n",
    "    while np.sum(Z) == 0:\n",
    "        Z = np.random.binomial(1, 0.5, size = (N, 1))\n",
    "    K_plus = 1\n",
    "    alpha = np.random.gamma(a, b, size = 1)\n",
    "    H_N = sum(1 / np.arange(1, N + 1))\n",
    "\n",
    "    ### Likelihood\n",
    "    def LR(X, Z, i, k, sigma_X, sigma_A):\n",
    "        # Let Z_{ik} be 1\n",
    "        Z0 = Z * 1\n",
    "        Z1 = Z * 1\n",
    "        Z0[i, k] = 0\n",
    "        Z1[i, k] = 1\n",
    "        K = Z.shape[1]\n",
    "        Mat0 = (sigma_A ** 2 / sigma_X ** 2) * Z0.T @ Z0 + np.eye(K)\n",
    "        Mat1 = (sigma_A ** 2 / sigma_X ** 2) * Z1.T @ Z1 + np.eye(K)\n",
    "        #print('det', linalg.det(Mat0), linalg.det(Mat1))\n",
    "        logcoef = D / 2 * (np.log(linalg.det(Mat0)) - np.log(linalg.det(Mat1)))\n",
    "        expo = -sigma_A**2 / (2*sigma_X**4) * np.trace(X.T @ (Z0 @ linalg.inv(Mat0) @ Z0.T - Z1 @ linalg.inv(Mat1) @ Z1.T) @ X)\n",
    "        #print(expo, logcoef)\n",
    "        return np.exp(expo - logcoef)\n",
    "\n",
    "    ### MCMC\n",
    "    for it in range(maxiter):\n",
    "        print(it)\n",
    "        res = {'K': np.zeros(maxiter), 'alpha': np.zeros(maxiter), 'Z': [None] * maxiter}\n",
    "        ## Update Z matrix\n",
    "        for i in range(N):\n",
    "            # 1. update Z_{ik}\n",
    "            count = 0\n",
    "            for k in range(K_plus):\n",
    "                r = sum(Z[:, k]) - Z[i, k]   # m_{-i, k}\n",
    "                if r < 1:\n",
    "                    Z[i, k] = 0\n",
    "                    count += 1\n",
    "                else:\n",
    "                    prob_ratio = LR(X, Z, i, k, sigma_X, sigma_A) * r / (N - r)\n",
    "                    prob = prob_ratio / (1 + prob_ratio)\n",
    "                    Z[i, k] = np.random.binomial(1, prob, size = 1)\n",
    "                    #print(\"prob = \", prob, f\"Z[{i}, {k}]\", Z[i, k])\n",
    "            # 2. delete unused columns\n",
    "            # print(np.sum(Z, axis = 0))\n",
    "            out = np.sum(Z, axis = 0) - Z[i, :]\n",
    "            print(count, sum(out == 0), K_plus)\n",
    "            Z = Z[:, out != 0]\n",
    "            _, K_plus = Z.shape\n",
    "            # 3. generate new columns\n",
    "            K_new = int(np.random.poisson(alpha / N, size = 1)) \n",
    "            # The number of new features follows Poisson.\n",
    "            if K_new:\n",
    "                Z = np.c_[Z, np.zeros((N, K_new))]\n",
    "                Z[i, -K_new::] = 1\n",
    "            K_plus += K_new            \n",
    "            \n",
    "        ## Update alpha\n",
    "        alpha = np.random.gamma(a + K_plus, b + H_N, size = 1)\n",
    "        \n",
    "        res['K'][it] = K_plus\n",
    "        res['alpha'][it] = alpha\n",
    "        res['Z'][it] = Z * 1\n",
    "    return res"
   ]
  },
  {
   "cell_type": "code",
   "execution_count": null,
   "metadata": {
    "tags": [
     "outputPrepend",
     "outputPrepend",
     "outputPrepend",
     "outputPrepend",
     "outputPrepend",
     "outputPrepend",
     "outputPrepend",
     "outputPrepend",
     "outputPrepend",
     "outputPrepend",
     "outputPrepend",
     "outputPrepend",
     "outputPrepend",
     "outputPrepend",
     "outputPrepend",
     "outputPrepend",
     "outputPrepend",
     "outputPrepend",
     "outputPrepend",
     "outputPrepend",
     "outputPrepend",
     "outputPrepend",
     "outputPrepend",
     "outputPrepend",
     "outputPrepend",
     "outputPrepend",
     "outputPrepend",
     "outputPrepend",
     "outputPrepend",
     "outputPrepend"
    ]
   },
   "outputs": [],
   "source": [
    "X = np.random.random((100,2)) @ np.random.random((2, 50)) + 1\n",
    "res = Gibbs(X, maxiter = 5, sigma_A = 1)"
   ]
  },
  {
   "cell_type": "code",
   "execution_count": null,
   "metadata": {},
   "outputs": [],
   "source": [
    "res['K']"
   ]
  },
  {
   "cell_type": "code",
   "execution_count": null,
   "metadata": {},
   "outputs": [],
   "source": [
    "X = np.random.random((100,50))\n",
    "np.sum(X, axis = 0).shape"
   ]
  },
  {
   "cell_type": "code",
   "execution_count": null,
   "metadata": {},
   "outputs": [],
   "source": [
    "X.T @ X + (1.7 ** 2 / 0.5 ** 2) * np.eye(5)"
   ]
  },
  {
   "cell_type": "code",
   "execution_count": null,
   "metadata": {},
   "outputs": [],
   "source": []
  }
 ]
}