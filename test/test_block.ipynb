{
 "cells": [
  {
   "cell_type": "code",
   "execution_count": 1,
   "metadata": {},
   "outputs": [],
   "source": [
    "import numpy as np\n",
    "from IBP import *\n",
    "import numpy as np\n",
    "import matplotlib.pyplot as plt\n",
    "import cython\n",
    "import timeit\n",
    "import math\n",
    "import time\n",
    "import numpy as np\n",
    "from IBP import IBP\n",
    "from matplotlib import pyplot as plt\n",
    "import matplotlib.gridspec as gridspec"
   ]
  },
  {
   "cell_type": "code",
   "execution_count": null,
   "metadata": {},
   "outputs": [],
   "source": [
    "%load_ext cython"
   ]
  },
  {
   "cell_type": "code",
   "execution_count": 2,
   "metadata": {},
   "outputs": [
    {
     "output_type": "stream",
     "name": "stdout",
     "text": "(99, 36)\n"
    }
   ],
   "source": [
    "V1 = np.array([\n",
    "    1, 0, 0, 0, 0, 0,\n",
    "    1, 0, 0, 0, 0, 0,\n",
    "    1, 0, 0, 0, 0, 0,\n",
    "    1, 0, 0, 0, 0, 0,\n",
    "    0, 0, 0, 0, 0, 0,\n",
    "    0, 0, 0, 0, 0, 0\n",
    "])\n",
    "V2 = np.array([\n",
    "    0, 0, 0, 0, 0, 0,\n",
    "    0, 0, 0, 0, 0, 0,\n",
    "    0, 0, 0, 0, 0, 0,\n",
    "    0, 0, 0, 0, 0, 0,\n",
    "    1, 0, 0, 0, 0, 0,\n",
    "    1, 1, 1, 0, 0, 0\n",
    "])\n",
    "V3 = np.array([\n",
    "    0, 0, 0, 0, 0, 0,\n",
    "    0, 0, 0, 0, 0, 0,\n",
    "    0, 0, 0, 0, 0, 0,\n",
    "    0, 0, 0, 0, 0, 0,\n",
    "    0, 0, 0, 0, 1, 1,\n",
    "    0, 0, 0, 0, 1, 1\n",
    "])\n",
    "V4 = np.array([\n",
    "    0, 0, 0, 0, 1, 1,\n",
    "    0, 0, 0, 0, 0, 1,\n",
    "    0, 0, 0, 0, 0, 1,\n",
    "    0, 0, 0, 0, 0, 0,\n",
    "    0, 0, 0, 0, 0, 0,\n",
    "    0, 0, 0, 0, 0, 0\n",
    "])\n",
    "V5 = np.array([\n",
    "    0, 0, 0, 0, 0, 0,\n",
    "    0, 0, 0, 0, 0, 0,\n",
    "    0, 1, 1, 1, 0, 0,\n",
    "    0, 0, 1, 0, 0, 0,\n",
    "    0, 0, 0, 0, 0, 0,\n",
    "    0, 0, 0, 0, 0, 0\n",
    "])\n",
    "V = [V1, V2, V3, V4, V5]\n",
    "\n",
    "N = 100\n",
    "D1 = np.outer(np.random.binomial(1, 0.5, N), V1)\n",
    "D2 = np.outer(np.random.binomial(1, 0.5, N), V2)\n",
    "D3 = np.outer(np.random.binomial(1, 0.5, N), V3)\n",
    "D4 = np.outer(np.random.binomial(1, 0.5, N), V4)\n",
    "D5 = np.outer(np.random.binomial(1, 0.5, N), V5)\n",
    "X = D1 + D2 + D3 + D4 + D5\n",
    "X = X[np.sum(X, axis = 1) > 0] * 1.0\n",
    "X += np.random.normal(0, 0.1, X.shape)\n",
    "print(X.shape)"
   ]
  },
  {
   "cell_type": "code",
   "execution_count": null,
   "metadata": {},
   "outputs": [],
   "source": [
    "fig, ax = plt.subplots(1,5,figsize = (10,2))\n",
    "for i in range(5):\n",
    "    ax[i].set_xticks([])\n",
    "    ax[i].set_yticks([])\n",
    "    ax[i].imshow((1-V[i]).reshape(6,6), 'gray')\n",
    "#plt.savefig('paper/tetris.png', bbox_inches='tight')"
   ]
  },
  {
   "cell_type": "code",
   "execution_count": 15,
   "metadata": {},
   "outputs": [
    {
     "output_type": "stream",
     "name": "stderr",
     "text": "Current K = 8: 100%|██████████| 1000/1000 [03:38<00:00,  4.11it/s]\n"
    }
   ],
   "source": [
    "ibp = IBP(X, alpha = (1,1,1), sigma_X = (1,1,1), sigma_A = (1,1,1))\n",
    "hist = ibp.MCMC(1000)\n",
    "#print(\"K\", history[\"K\"])\n",
    "#print(\"alpha\", history[\"alpha\"])\n",
    "#print(\"sigma_X\", history[\"sigma_X\"])\n",
    "#print(\"sigma_A\", history[\"sigma_A\"])"
   ]
  },
  {
   "cell_type": "code",
   "execution_count": null,
   "metadata": {},
   "outputs": [],
   "source": [
    "fig, ax = plt.subplots(4,1,sharex = True, figsize = (12,8))\n",
    "ax[0].plot(hist['K'])\n",
    "ax[0].set_ylabel('K', fontsize = 17)\n",
    "ax[0].set_ylim(0,10)\n",
    "ax[1].plot(hist['alpha'])\n",
    "ax[1].set_ylabel('$\\\\alpha$',fontsize = 17)\n",
    "ax[1].set_ylim(0,120)\n",
    "ax[2].plot(hist['sigma_X'])\n",
    "ax[2].set_ylabel('$\\\\sigma_X$',fontsize = 17)\n",
    "ax[2].set_ylim(0,1.2)\n",
    "ax[3].plot(hist['sigma_A'])\n",
    "ax[3].set_ylabel('$\\\\sigma_A$',fontsize = 17)\n",
    "ax[3].set_ylim(0,1.2)\n",
    "plt.xlim(0,1000)\n",
    "for i in range(4):\n",
    "    ax[i].tick_params(labelsize=15)\n",
    "fig.align_ylabels(ax)\n",
    "#plt.savefig('paper/gibbsresultblock.png', bbox_inches='tight')"
   ]
  },
  {
   "cell_type": "code",
   "execution_count": null,
   "metadata": {},
   "outputs": [],
   "source": [
    "def feature_map(feature, X_prior, Z, shape, order, truncate = None):\n",
    "    feature = feature[order, :]\n",
    "    Z = Z[:, order]\n",
    "    if truncate is not None:\n",
    "        feature = feature[:truncate, :]\n",
    "        Z = Z[:, :truncate]\n",
    "    X_post = Z @ feature\n",
    "    f = plt.figure(figsize = (18,12))\n",
    "    plt.axis('off')\n",
    "    positive = np.tile(np.array([[[0.29803923, 0.6431373, 0.24705882]]]), reps = (*shape, 1))\n",
    "    negative = np.tile(np.array([[[0.9, 0.9, 0.9]]]), reps = (*shape, 1))\n",
    "    grid = gridspec.GridSpec(nrows = (X_prior.shape[0] + 1), ncols = (feature.shape[0] + 2), figure = f)\n",
    "    for idf in range(feature.shape[0]):\n",
    "        sp = f.add_subplot(grid[0, idf + 1])\n",
    "        sp.set_xticks([])\n",
    "        sp.set_yticks([])\n",
    "        sp.imshow(feature[idf].reshape(shape), cmap = 'gray')\n",
    "    for idx in range(X_prior.shape[0]):\n",
    "        sp = f.add_subplot(grid[idx + 1, 0])\n",
    "        sp.set_xticks([])\n",
    "        sp.set_yticks([])\n",
    "        sp.imshow(X_prior[idx].reshape(shape), cmap = 'gray')\n",
    "        sp = f.add_subplot(grid[idx + 1, -1])\n",
    "        sp.set_xticks([])\n",
    "        sp.set_yticks([])\n",
    "        sp.imshow(X_post[idx].reshape(shape), cmap = 'gray')\n",
    "    for i in range(Z.shape[0]):\n",
    "        for j in range(Z.shape[1]):\n",
    "            back = Z[i,j] * positive + (1 - Z[i,j]) * negative\n",
    "            sp = f.add_subplot(grid[i + 1, j + 1])\n",
    "            sp.set_xticks([])\n",
    "            sp.set_yticks([])\n",
    "            sp.axis('off')\n",
    "            sp.imshow(back)"
   ]
  },
  {
   "cell_type": "code",
   "execution_count": null,
   "metadata": {},
   "outputs": [],
   "source": [
    "A = ibp.postMean()\n",
    "Z = hist['Z'][-1]\n",
    "idx = [0, 1, 2, 3, 4, 5, 6, 7, 8, 9]\n",
    "order = np.argsort(np.sum(Z, axis = 0))[::-1]\n",
    "feature_map(A, X[idx], Z[idx], (6, 6), order = order)\n"
   ]
  },
  {
   "cell_type": "code",
   "execution_count": null,
   "metadata": {},
   "outputs": [],
   "source": [
    "fig, ax = plt.subplots(1,5,figsize = (10,2))\n",
    "for i in range(5):\n",
    "    ax[i].set_xticks([])\n",
    "    ax[i].set_yticks([])\n",
    "    ax[i].imshow((1-A[i]).reshape(6,6), 'gray')\n",
    "#plt.savefig('paper/tetrisfeature.png', bbox_inches='tight')"
   ]
  },
  {
   "cell_type": "code",
   "execution_count": null,
   "metadata": {},
   "outputs": [],
   "source": [
    "hist['sigma_X'][-1]"
   ]
  },
  {
   "cell_type": "code",
   "execution_count": null,
   "metadata": {},
   "outputs": [],
   "source": [
    "fig, ax = plt.subplots(2,5,figsize = (10,4.5))\n",
    "def to_str(a):\n",
    "    s = ''\n",
    "    for i in range(a.shape[0]):\n",
    "        if i != 0:\n",
    "            s += ', '\n",
    "        s += str(int(a[i]))\n",
    "    return s\n",
    "for i in range(10):\n",
    "    ax[i // 5, i % 5].set_xticks([])\n",
    "    ax[i // 5, i % 5].set_yticks([])\n",
    "    ax[i // 5, i % 5].imshow((1-X[i]).reshape(6,6), 'gray')\n",
    "    ax[i // 5, i % 5].set_xlabel(to_str(Z[i]), fontsize = 14)\n",
    "#plt.savefig('paper/tetrisdetection.png', bbox_inches='tight')"
   ]
  },
  {
   "cell_type": "code",
   "execution_count": 16,
   "metadata": {},
   "outputs": [
    {
     "output_type": "stream",
     "name": "stdout",
     "text": "Total time used: 218.69792294502258s\nUpdate Z\ttot_time 194.09789943695068s\t#exec 613754\tavg_time 0.00031624706223821054s\nUpdate K\ttot_time 22.046290159225464s\t#exec 99000\tavg_time 0.000222689799588136s\nUpdate alpha\ttot_time 0.02676105499267578s\t#exec 1000\tavg_time 2.676105499267578e-05s\nUpdate sigma_X\ttot_time 0.25861573219299316s\t#exec 1000\tavg_time 0.00025861573219299316s\nUpdate sigma_A\ttot_time 0.24220514297485352s\t#exec 1000\tavg_time 0.0002422051429748535s\nOther\t\ttot_time 2.026151418685913s\n"
    }
   ],
   "source": [
    "prof = ibp.profile()"
   ]
  },
  {
   "cell_type": "code",
   "execution_count": null,
   "metadata": {},
   "outputs": [],
   "source": [
    "ibp.time_simplify"
   ]
  },
  {
   "cell_type": "code",
   "execution_count": 17,
   "metadata": {},
   "outputs": [],
   "source": [
    "import PyIBP\n",
    "ibp = PyIBP.PyIBP(X, alpha = (1,1,1), sigma_x = (1,1,1), sigma_a = (1,1,1))"
   ]
  },
  {
   "cell_type": "code",
   "execution_count": 18,
   "metadata": {},
   "outputs": [
    {
     "output_type": "stream",
     "name": "stderr",
     "text": "Current K = 7:   0%|          | 1/1000 [01:00<16:54:56, 60.96s/it]Total time used: 60.9589569568634s\nUpdate Z\ttot_time 47.942808628082275s\t#exec 684456\tavg_time 7.004512872716768e-05s\nUpdate K\ttot_time 10.258894681930542s\t#exec 99000\tavg_time 0.00010362519880737921s\nUpdate alpha\ttot_time 0.0594935417175293s\t#exec 1000\tavg_time 5.9493541717529295e-05s\nUpdate sigma_X\ttot_time 0.19479632377624512s\t#exec 1000\tavg_time 0.0001947963237762451s\nUpdate sigma_A\ttot_time 0.06593799591064453s\t#exec 1000\tavg_time 6.593799591064454e-05s\nOther\t\ttot_time 2.437025785446167s\n\n"
    }
   ],
   "source": [
    "ibp.MCMC(1000)"
   ]
  },
  {
   "cell_type": "code",
   "execution_count": 12,
   "metadata": {},
   "outputs": [],
   "source": [
    "fig = 1 - ibp.weights()"
   ]
  },
  {
   "cell_type": "code",
   "execution_count": 14,
   "metadata": {},
   "outputs": [
    {
     "output_type": "display_data",
     "data": {
      "text/plain": "<Figure size 432x288 with 9 Axes>",
      "image/svg+xml": "<?xml version=\"1.0\" encoding=\"utf-8\" standalone=\"no\"?>\n<!DOCTYPE svg PUBLIC \"-//W3C//DTD SVG 1.1//EN\"\n  \"http://www.w3.org/Graphics/SVG/1.1/DTD/svg11.dtd\">\n<!-- Created with matplotlib (https://matplotlib.org/) -->\n<svg height=\"248.518125pt\" version=\"1.1\" viewBox=\"0 0 328.044853 248.518125\" width=\"328.044853pt\" xmlns=\"http://www.w3.org/2000/svg\" xmlns:xlink=\"http://www.w3.org/1999/xlink\">\n <defs>\n  <style type=\"text/css\">\n*{stroke-linecap:butt;stroke-linejoin:round;white-space:pre;}\n  </style>\n </defs>\n <g id=\"figure_1\">\n  <g id=\"patch_1\">\n   <path d=\"M 0 248.518125 \nL 328.044853 248.518125 \nL 328.044853 0 \nL 0 0 \nz\n\" style=\"fill:none;\"/>\n  </g>\n  <g id=\"axes_1\">\n   <g id=\"patch_2\">\n    <path d=\"M 20.5625 71.152941 \nL 84.515441 71.152941 \nL 84.515441 7.2 \nL 20.5625 7.2 \nz\n\" style=\"fill:#ffffff;\"/>\n   </g>\n   <g clip-path=\"url(#pbbfcdc4e44)\">\n    <image height=\"64\" id=\"image882e09bf6f\" transform=\"scale(1 -1)translate(0 -64)\" width=\"64\" x=\"20.5625\" xlink:href=\"data:image/png;base64,\niVBORw0KGgoAAAANSUhEUgAAAEAAAABACAYAAACqaXHeAAAABHNCSVQICAgIfAhkiAAAAURJREFUeJztm02Kg0AYBds/EEQxeAN33v9AIQsXrkQRoy50rvAGBgqmX60fH0WlFyGQpOu6J4jc9y3tvt+vejJM0yRvX6+XtMvzXL6Zyst/igPQAjQOQAvQOAAtQOMAtABN9AHy4zjk8fv9lnZ1Xcs3kySRt23bSrvzPOWb0b8AB6AFaByAFqBxAFqAxgFoAZpkWRb5R9Ft26TdMAyywDiO8rYoCmk3z7N8M/oX4AC0AI0D0AI0DkAL0DgALUATfYDkPE/5q3BZltLueeST8g+dIYTw+XykXd/38s3oX4AD0AI0DkAL0DgALUDjALQATfQB8nVd5fG+79Luui755m+2aap9XqpnCH4BDuAAtACNA9ACNA5AC9BEHyDPskweq3+GqqpKvtk0zZ9v1T93heAX4AAOQAvQOAAtQOMAtACNA9ACND9JDT8kTiSojAAAAABJRU5ErkJggg==\" y=\"-7.152941\"/>\n   </g>\n   <g id=\"matplotlib.axis_1\">\n    <g id=\"xtick_1\">\n     <g id=\"line2d_1\">\n      <defs>\n       <path d=\"M 0 0 \nL 0 3.5 \n\" id=\"m877da16e6e\" style=\"stroke:#000000;stroke-width:0.8;\"/>\n      </defs>\n      <g>\n       <use style=\"stroke:#000000;stroke-width:0.8;\" x=\"25.891912\" xlink:href=\"#m877da16e6e\" y=\"71.152941\"/>\n      </g>\n     </g>\n     <g id=\"text_1\">\n      <!-- 0 -->\n      <defs>\n       <path d=\"M 31.78125 66.40625 \nQ 24.171875 66.40625 20.328125 58.90625 \nQ 16.5 51.421875 16.5 36.375 \nQ 16.5 21.390625 20.328125 13.890625 \nQ 24.171875 6.390625 31.78125 6.390625 \nQ 39.453125 6.390625 43.28125 13.890625 \nQ 47.125 21.390625 47.125 36.375 \nQ 47.125 51.421875 43.28125 58.90625 \nQ 39.453125 66.40625 31.78125 66.40625 \nz\nM 31.78125 74.21875 \nQ 44.046875 74.21875 50.515625 64.515625 \nQ 56.984375 54.828125 56.984375 36.375 \nQ 56.984375 17.96875 50.515625 8.265625 \nQ 44.046875 -1.421875 31.78125 -1.421875 \nQ 19.53125 -1.421875 13.0625 8.265625 \nQ 6.59375 17.96875 6.59375 36.375 \nQ 6.59375 54.828125 13.0625 64.515625 \nQ 19.53125 74.21875 31.78125 74.21875 \nz\n\" id=\"DejaVuSans-48\"/>\n      </defs>\n      <g transform=\"translate(22.710662 85.751379)scale(0.1 -0.1)\">\n       <use xlink:href=\"#DejaVuSans-48\"/>\n      </g>\n     </g>\n    </g>\n    <g id=\"xtick_2\">\n     <g id=\"line2d_2\">\n      <g>\n       <use style=\"stroke:#000000;stroke-width:0.8;\" x=\"79.186029\" xlink:href=\"#m877da16e6e\" y=\"71.152941\"/>\n      </g>\n     </g>\n     <g id=\"text_2\">\n      <!-- 5 -->\n      <defs>\n       <path d=\"M 10.796875 72.90625 \nL 49.515625 72.90625 \nL 49.515625 64.59375 \nL 19.828125 64.59375 \nL 19.828125 46.734375 \nQ 21.96875 47.46875 24.109375 47.828125 \nQ 26.265625 48.1875 28.421875 48.1875 \nQ 40.625 48.1875 47.75 41.5 \nQ 54.890625 34.8125 54.890625 23.390625 \nQ 54.890625 11.625 47.5625 5.09375 \nQ 40.234375 -1.421875 26.90625 -1.421875 \nQ 22.3125 -1.421875 17.546875 -0.640625 \nQ 12.796875 0.140625 7.71875 1.703125 \nL 7.71875 11.625 \nQ 12.109375 9.234375 16.796875 8.0625 \nQ 21.484375 6.890625 26.703125 6.890625 \nQ 35.15625 6.890625 40.078125 11.328125 \nQ 45.015625 15.765625 45.015625 23.390625 \nQ 45.015625 31 40.078125 35.4375 \nQ 35.15625 39.890625 26.703125 39.890625 \nQ 22.75 39.890625 18.8125 39.015625 \nQ 14.890625 38.140625 10.796875 36.28125 \nz\n\" id=\"DejaVuSans-53\"/>\n      </defs>\n      <g transform=\"translate(76.004779 85.751379)scale(0.1 -0.1)\">\n       <use xlink:href=\"#DejaVuSans-53\"/>\n      </g>\n     </g>\n    </g>\n   </g>\n   <g id=\"matplotlib.axis_2\">\n    <g id=\"ytick_1\">\n     <g id=\"line2d_3\">\n      <defs>\n       <path d=\"M 0 0 \nL -3.5 0 \n\" id=\"m9b925c2e7e\" style=\"stroke:#000000;stroke-width:0.8;\"/>\n      </defs>\n      <g>\n       <use style=\"stroke:#000000;stroke-width:0.8;\" x=\"20.5625\" xlink:href=\"#m9b925c2e7e\" y=\"12.529412\"/>\n      </g>\n     </g>\n     <g id=\"text_3\">\n      <!-- 0 -->\n      <g transform=\"translate(7.2 16.328631)scale(0.1 -0.1)\">\n       <use xlink:href=\"#DejaVuSans-48\"/>\n      </g>\n     </g>\n    </g>\n    <g id=\"ytick_2\">\n     <g id=\"line2d_4\">\n      <g>\n       <use style=\"stroke:#000000;stroke-width:0.8;\" x=\"20.5625\" xlink:href=\"#m9b925c2e7e\" y=\"33.847059\"/>\n      </g>\n     </g>\n     <g id=\"text_4\">\n      <!-- 2 -->\n      <defs>\n       <path d=\"M 19.1875 8.296875 \nL 53.609375 8.296875 \nL 53.609375 0 \nL 7.328125 0 \nL 7.328125 8.296875 \nQ 12.9375 14.109375 22.625 23.890625 \nQ 32.328125 33.6875 34.8125 36.53125 \nQ 39.546875 41.84375 41.421875 45.53125 \nQ 43.3125 49.21875 43.3125 52.78125 \nQ 43.3125 58.59375 39.234375 62.25 \nQ 35.15625 65.921875 28.609375 65.921875 \nQ 23.96875 65.921875 18.8125 64.3125 \nQ 13.671875 62.703125 7.8125 59.421875 \nL 7.8125 69.390625 \nQ 13.765625 71.78125 18.9375 73 \nQ 24.125 74.21875 28.421875 74.21875 \nQ 39.75 74.21875 46.484375 68.546875 \nQ 53.21875 62.890625 53.21875 53.421875 \nQ 53.21875 48.921875 51.53125 44.890625 \nQ 49.859375 40.875 45.40625 35.40625 \nQ 44.1875 33.984375 37.640625 27.21875 \nQ 31.109375 20.453125 19.1875 8.296875 \nz\n\" id=\"DejaVuSans-50\"/>\n      </defs>\n      <g transform=\"translate(7.2 37.646278)scale(0.1 -0.1)\">\n       <use xlink:href=\"#DejaVuSans-50\"/>\n      </g>\n     </g>\n    </g>\n    <g id=\"ytick_3\">\n     <g id=\"line2d_5\">\n      <g>\n       <use style=\"stroke:#000000;stroke-width:0.8;\" x=\"20.5625\" xlink:href=\"#m9b925c2e7e\" y=\"55.164706\"/>\n      </g>\n     </g>\n     <g id=\"text_5\">\n      <!-- 4 -->\n      <defs>\n       <path d=\"M 37.796875 64.3125 \nL 12.890625 25.390625 \nL 37.796875 25.390625 \nz\nM 35.203125 72.90625 \nL 47.609375 72.90625 \nL 47.609375 25.390625 \nL 58.015625 25.390625 \nL 58.015625 17.1875 \nL 47.609375 17.1875 \nL 47.609375 0 \nL 37.796875 0 \nL 37.796875 17.1875 \nL 4.890625 17.1875 \nL 4.890625 26.703125 \nz\n\" id=\"DejaVuSans-52\"/>\n      </defs>\n      <g transform=\"translate(7.2 58.963925)scale(0.1 -0.1)\">\n       <use xlink:href=\"#DejaVuSans-52\"/>\n      </g>\n     </g>\n    </g>\n   </g>\n   <g id=\"patch_3\">\n    <path d=\"M 20.5625 71.152941 \nL 20.5625 7.2 \n\" style=\"fill:none;stroke:#000000;stroke-linecap:square;stroke-linejoin:miter;stroke-width:0.8;\"/>\n   </g>\n   <g id=\"patch_4\">\n    <path d=\"M 84.515441 71.152941 \nL 84.515441 7.2 \n\" style=\"fill:none;stroke:#000000;stroke-linecap:square;stroke-linejoin:miter;stroke-width:0.8;\"/>\n   </g>\n   <g id=\"patch_5\">\n    <path d=\"M 20.5625 71.152941 \nL 84.515441 71.152941 \n\" style=\"fill:none;stroke:#000000;stroke-linecap:square;stroke-linejoin:miter;stroke-width:0.8;\"/>\n   </g>\n   <g id=\"patch_6\">\n    <path d=\"M 20.5625 7.2 \nL 84.515441 7.2 \n\" style=\"fill:none;stroke:#000000;stroke-linecap:square;stroke-linejoin:miter;stroke-width:0.8;\"/>\n   </g>\n  </g>\n  <g id=\"axes_2\">\n   <g id=\"patch_7\">\n    <path d=\"M 138.727206 71.152941 \nL 202.680147 71.152941 \nL 202.680147 7.2 \nL 138.727206 7.2 \nz\n\" style=\"fill:#ffffff;\"/>\n   </g>\n   <g clip-path=\"url(#pdf0597f037)\">\n    <image height=\"64\" id=\"image2bbf0e3542\" transform=\"scale(1 -1)translate(0 -64)\" width=\"64\" x=\"138.727206\" xlink:href=\"data:image/png;base64,\niVBORw0KGgoAAAANSUhEUgAAAEAAAABACAYAAACqaXHeAAAABHNCSVQICAgIfAhkiAAAAStJREFUeJztmssKhDAQBDcaEBVB//8PxasvFN1f6MBCwU7XuZk0RQ5hNI3j+H5+zPvqI6uqkrPneUq5nLN+vpz8UyyALkBjAXQBGgugC9BYAF2AJryAfF2XHhafmPd9yzO7rpOzx3FIuW3b5Jnhb4AF0AVoLIAuQGMBdAEaC6AL0KRpmuQNprrsLFmKllDXtZRr21aeGf4GWABdgMYC6AI0FkAXoLEAugBNeAFpGIafP4VLvs8/zyNn1QXuPM/yzPA3wALoAjQWQBegsQC6AI0F0AVowgtITdPIT2H12Vry+2tJNqUk5dZ11c+Xk3+KBdAFaCyALkBjAXQBGgugC9Dkvu/l8L7vUq5k5rIsclZdypb8qRr+BlgAXYDGAugCNBZAF6CxALoATXgBX8z2OoN79QoxAAAAAElFTkSuQmCC\" y=\"-7.152941\"/>\n   </g>\n   <g id=\"matplotlib.axis_3\">\n    <g id=\"xtick_3\">\n     <g id=\"line2d_6\">\n      <g>\n       <use style=\"stroke:#000000;stroke-width:0.8;\" x=\"144.056618\" xlink:href=\"#m877da16e6e\" y=\"71.152941\"/>\n      </g>\n     </g>\n     <g id=\"text_6\">\n      <!-- 0 -->\n      <g transform=\"translate(140.875368 85.751379)scale(0.1 -0.1)\">\n       <use xlink:href=\"#DejaVuSans-48\"/>\n      </g>\n     </g>\n    </g>\n    <g id=\"xtick_4\">\n     <g id=\"line2d_7\">\n      <g>\n       <use style=\"stroke:#000000;stroke-width:0.8;\" x=\"197.350735\" xlink:href=\"#m877da16e6e\" y=\"71.152941\"/>\n      </g>\n     </g>\n     <g id=\"text_7\">\n      <!-- 5 -->\n      <g transform=\"translate(194.169485 85.751379)scale(0.1 -0.1)\">\n       <use xlink:href=\"#DejaVuSans-53\"/>\n      </g>\n     </g>\n    </g>\n   </g>\n   <g id=\"matplotlib.axis_4\">\n    <g id=\"ytick_4\">\n     <g id=\"line2d_8\">\n      <g>\n       <use style=\"stroke:#000000;stroke-width:0.8;\" x=\"138.727206\" xlink:href=\"#m9b925c2e7e\" y=\"12.529412\"/>\n      </g>\n     </g>\n     <g id=\"text_8\">\n      <!-- 0 -->\n      <g transform=\"translate(125.364706 16.328631)scale(0.1 -0.1)\">\n       <use xlink:href=\"#DejaVuSans-48\"/>\n      </g>\n     </g>\n    </g>\n    <g id=\"ytick_5\">\n     <g id=\"line2d_9\">\n      <g>\n       <use style=\"stroke:#000000;stroke-width:0.8;\" x=\"138.727206\" xlink:href=\"#m9b925c2e7e\" y=\"33.847059\"/>\n      </g>\n     </g>\n     <g id=\"text_9\">\n      <!-- 2 -->\n      <g transform=\"translate(125.364706 37.646278)scale(0.1 -0.1)\">\n       <use xlink:href=\"#DejaVuSans-50\"/>\n      </g>\n     </g>\n    </g>\n    <g id=\"ytick_6\">\n     <g id=\"line2d_10\">\n      <g>\n       <use style=\"stroke:#000000;stroke-width:0.8;\" x=\"138.727206\" xlink:href=\"#m9b925c2e7e\" y=\"55.164706\"/>\n      </g>\n     </g>\n     <g id=\"text_10\">\n      <!-- 4 -->\n      <g transform=\"translate(125.364706 58.963925)scale(0.1 -0.1)\">\n       <use xlink:href=\"#DejaVuSans-52\"/>\n      </g>\n     </g>\n    </g>\n   </g>\n   <g id=\"patch_8\">\n    <path d=\"M 138.727206 71.152941 \nL 138.727206 7.2 \n\" style=\"fill:none;stroke:#000000;stroke-linecap:square;stroke-linejoin:miter;stroke-width:0.8;\"/>\n   </g>\n   <g id=\"patch_9\">\n    <path d=\"M 202.680147 71.152941 \nL 202.680147 7.2 \n\" style=\"fill:none;stroke:#000000;stroke-linecap:square;stroke-linejoin:miter;stroke-width:0.8;\"/>\n   </g>\n   <g id=\"patch_10\">\n    <path d=\"M 138.727206 71.152941 \nL 202.680147 71.152941 \n\" style=\"fill:none;stroke:#000000;stroke-linecap:square;stroke-linejoin:miter;stroke-width:0.8;\"/>\n   </g>\n   <g id=\"patch_11\">\n    <path d=\"M 138.727206 7.2 \nL 202.680147 7.2 \n\" style=\"fill:none;stroke:#000000;stroke-linecap:square;stroke-linejoin:miter;stroke-width:0.8;\"/>\n   </g>\n  </g>\n  <g id=\"axes_3\">\n   <g id=\"patch_12\">\n    <path d=\"M 256.891912 71.152941 \nL 320.844853 71.152941 \nL 320.844853 7.2 \nL 256.891912 7.2 \nz\n\" style=\"fill:#ffffff;\"/>\n   </g>\n   <g clip-path=\"url(#p8fbbb1cf21)\">\n    <image height=\"64\" id=\"imagef3d8d3e3bd\" transform=\"scale(1 -1)translate(0 -64)\" width=\"64\" x=\"256.891912\" xlink:href=\"data:image/png;base64,\niVBORw0KGgoAAAANSUhEUgAAAEAAAABACAYAAACqaXHeAAAABHNCSVQICAgIfAhkiAAAAStJREFUeJztm0EKgzAABBONiKIg+v8/igc9KOoXNtAyYHbOSximPQRr477vTxDpuk7aPY98ZJjnWd7e9y3tYozymZW8/CgOQAvQOAAtQOMAtACNA9ACNMUHSHVdy+NxHKXddV3ymU3TyNuq0j6v4zj0M+XlR3EAWoDGAWgBGgegBWgcgBagidM0yU8w+76XdurDyxDybo3btkm7rNulvPwoDkAL0DgALUDjALQAjQPQAjTFB4jDMMhX4ZTSzwXUB53/ovhvgAPQAjQOQAvQOAAtQOMAtABN8QFSzmul6lU45/f5nCe453lKO78qm4ED0AI0DkAL0DgALUDjALQATWrbVh6rf4bK+dPUuq7yVr3hLcsin1n8N8ABaAEaB6AFaByAFqBxAFqApvgAL9MBKzWsFKF+AAAAAElFTkSuQmCC\" y=\"-7.152941\"/>\n   </g>\n   <g id=\"matplotlib.axis_5\">\n    <g id=\"xtick_5\">\n     <g id=\"line2d_11\">\n      <g>\n       <use style=\"stroke:#000000;stroke-width:0.8;\" x=\"262.221324\" xlink:href=\"#m877da16e6e\" y=\"71.152941\"/>\n      </g>\n     </g>\n     <g id=\"text_11\">\n      <!-- 0 -->\n      <g transform=\"translate(259.040074 85.751379)scale(0.1 -0.1)\">\n       <use xlink:href=\"#DejaVuSans-48\"/>\n      </g>\n     </g>\n    </g>\n    <g id=\"xtick_6\">\n     <g id=\"line2d_12\">\n      <g>\n       <use style=\"stroke:#000000;stroke-width:0.8;\" x=\"315.515441\" xlink:href=\"#m877da16e6e\" y=\"71.152941\"/>\n      </g>\n     </g>\n     <g id=\"text_12\">\n      <!-- 5 -->\n      <g transform=\"translate(312.334191 85.751379)scale(0.1 -0.1)\">\n       <use xlink:href=\"#DejaVuSans-53\"/>\n      </g>\n     </g>\n    </g>\n   </g>\n   <g id=\"matplotlib.axis_6\">\n    <g id=\"ytick_7\">\n     <g id=\"line2d_13\">\n      <g>\n       <use style=\"stroke:#000000;stroke-width:0.8;\" x=\"256.891912\" xlink:href=\"#m9b925c2e7e\" y=\"12.529412\"/>\n      </g>\n     </g>\n     <g id=\"text_13\">\n      <!-- 0 -->\n      <g transform=\"translate(243.529412 16.328631)scale(0.1 -0.1)\">\n       <use xlink:href=\"#DejaVuSans-48\"/>\n      </g>\n     </g>\n    </g>\n    <g id=\"ytick_8\">\n     <g id=\"line2d_14\">\n      <g>\n       <use style=\"stroke:#000000;stroke-width:0.8;\" x=\"256.891912\" xlink:href=\"#m9b925c2e7e\" y=\"33.847059\"/>\n      </g>\n     </g>\n     <g id=\"text_14\">\n      <!-- 2 -->\n      <g transform=\"translate(243.529412 37.646278)scale(0.1 -0.1)\">\n       <use xlink:href=\"#DejaVuSans-50\"/>\n      </g>\n     </g>\n    </g>\n    <g id=\"ytick_9\">\n     <g id=\"line2d_15\">\n      <g>\n       <use style=\"stroke:#000000;stroke-width:0.8;\" x=\"256.891912\" xlink:href=\"#m9b925c2e7e\" y=\"55.164706\"/>\n      </g>\n     </g>\n     <g id=\"text_15\">\n      <!-- 4 -->\n      <g transform=\"translate(243.529412 58.963925)scale(0.1 -0.1)\">\n       <use xlink:href=\"#DejaVuSans-52\"/>\n      </g>\n     </g>\n    </g>\n   </g>\n   <g id=\"patch_13\">\n    <path d=\"M 256.891912 71.152941 \nL 256.891912 7.2 \n\" style=\"fill:none;stroke:#000000;stroke-linecap:square;stroke-linejoin:miter;stroke-width:0.8;\"/>\n   </g>\n   <g id=\"patch_14\">\n    <path d=\"M 320.844853 71.152941 \nL 320.844853 7.2 \n\" style=\"fill:none;stroke:#000000;stroke-linecap:square;stroke-linejoin:miter;stroke-width:0.8;\"/>\n   </g>\n   <g id=\"patch_15\">\n    <path d=\"M 256.891912 71.152941 \nL 320.844853 71.152941 \n\" style=\"fill:none;stroke:#000000;stroke-linecap:square;stroke-linejoin:miter;stroke-width:0.8;\"/>\n   </g>\n   <g id=\"patch_16\">\n    <path d=\"M 256.891912 7.2 \nL 320.844853 7.2 \n\" style=\"fill:none;stroke:#000000;stroke-linecap:square;stroke-linejoin:miter;stroke-width:0.8;\"/>\n   </g>\n  </g>\n  <g id=\"axes_4\">\n   <g id=\"patch_17\">\n    <path d=\"M 20.5625 147.896471 \nL 84.515441 147.896471 \nL 84.515441 83.943529 \nL 20.5625 83.943529 \nz\n\" style=\"fill:#ffffff;\"/>\n   </g>\n   <g clip-path=\"url(#pfb15a3635a)\">\n    <image height=\"64\" id=\"image1ac03877d5\" transform=\"scale(1 -1)translate(0 -64)\" width=\"64\" x=\"20.5625\" xlink:href=\"data:image/png;base64,\niVBORw0KGgoAAAANSUhEUgAAAEAAAABACAYAAACqaXHeAAAABHNCSVQICAgIfAhkiAAAAS5JREFUeJztmkEKhDAQBI1GRAn6/ycqeFL0oOj+YOnspWDTdR6GovAwSMI4jm8lcl2XNJdSUldWIQR5dp5naW7fd3lnLU/+KQ5AC9A4AC1A4wC0AI0D0AI0xQeI7ytfwlXf99LceZ66QIzy7LIs0twwDPLO4r8AB6AFaByAFqBxAFqAxgFoAZqQUpJPQfXCOo7jZ6FvqFdr0zTyzuK/AAegBWgcgBagcQBagMYBaAGa4gPEutYbqO8Dck7R+77lWXVv27byzuK/AAegBWgcgBagcQBagMYBaAGa4gPEnGet27ZJc13XyTtzTmH1r/C6rvLO4r8AB6AFaByAFqBxAFqAxgFoAZowTZP+VFTkeR55Nuelqno1+qVoBg5AC9A4AC1A4wC0AI0D0AI0xQf4AKL0NnUhB6AaAAAAAElFTkSuQmCC\" y=\"-83.896471\"/>\n   </g>\n   <g id=\"matplotlib.axis_7\">\n    <g id=\"xtick_7\">\n     <g id=\"line2d_16\">\n      <g>\n       <use style=\"stroke:#000000;stroke-width:0.8;\" x=\"25.891912\" xlink:href=\"#m877da16e6e\" y=\"147.896471\"/>\n      </g>\n     </g>\n     <g id=\"text_16\">\n      <!-- 0 -->\n      <g transform=\"translate(22.710662 162.494908)scale(0.1 -0.1)\">\n       <use xlink:href=\"#DejaVuSans-48\"/>\n      </g>\n     </g>\n    </g>\n    <g id=\"xtick_8\">\n     <g id=\"line2d_17\">\n      <g>\n       <use style=\"stroke:#000000;stroke-width:0.8;\" x=\"79.186029\" xlink:href=\"#m877da16e6e\" y=\"147.896471\"/>\n      </g>\n     </g>\n     <g id=\"text_17\">\n      <!-- 5 -->\n      <g transform=\"translate(76.004779 162.494908)scale(0.1 -0.1)\">\n       <use xlink:href=\"#DejaVuSans-53\"/>\n      </g>\n     </g>\n    </g>\n   </g>\n   <g id=\"matplotlib.axis_8\">\n    <g id=\"ytick_10\">\n     <g id=\"line2d_18\">\n      <g>\n       <use style=\"stroke:#000000;stroke-width:0.8;\" x=\"20.5625\" xlink:href=\"#m9b925c2e7e\" y=\"89.272941\"/>\n      </g>\n     </g>\n     <g id=\"text_18\">\n      <!-- 0 -->\n      <g transform=\"translate(7.2 93.07216)scale(0.1 -0.1)\">\n       <use xlink:href=\"#DejaVuSans-48\"/>\n      </g>\n     </g>\n    </g>\n    <g id=\"ytick_11\">\n     <g id=\"line2d_19\">\n      <g>\n       <use style=\"stroke:#000000;stroke-width:0.8;\" x=\"20.5625\" xlink:href=\"#m9b925c2e7e\" y=\"110.590588\"/>\n      </g>\n     </g>\n     <g id=\"text_19\">\n      <!-- 2 -->\n      <g transform=\"translate(7.2 114.389807)scale(0.1 -0.1)\">\n       <use xlink:href=\"#DejaVuSans-50\"/>\n      </g>\n     </g>\n    </g>\n    <g id=\"ytick_12\">\n     <g id=\"line2d_20\">\n      <g>\n       <use style=\"stroke:#000000;stroke-width:0.8;\" x=\"20.5625\" xlink:href=\"#m9b925c2e7e\" y=\"131.908235\"/>\n      </g>\n     </g>\n     <g id=\"text_20\">\n      <!-- 4 -->\n      <g transform=\"translate(7.2 135.707454)scale(0.1 -0.1)\">\n       <use xlink:href=\"#DejaVuSans-52\"/>\n      </g>\n     </g>\n    </g>\n   </g>\n   <g id=\"patch_18\">\n    <path d=\"M 20.5625 147.896471 \nL 20.5625 83.943529 \n\" style=\"fill:none;stroke:#000000;stroke-linecap:square;stroke-linejoin:miter;stroke-width:0.8;\"/>\n   </g>\n   <g id=\"patch_19\">\n    <path d=\"M 84.515441 147.896471 \nL 84.515441 83.943529 \n\" style=\"fill:none;stroke:#000000;stroke-linecap:square;stroke-linejoin:miter;stroke-width:0.8;\"/>\n   </g>\n   <g id=\"patch_20\">\n    <path d=\"M 20.5625 147.896471 \nL 84.515441 147.896471 \n\" style=\"fill:none;stroke:#000000;stroke-linecap:square;stroke-linejoin:miter;stroke-width:0.8;\"/>\n   </g>\n   <g id=\"patch_21\">\n    <path d=\"M 20.5625 83.943529 \nL 84.515441 83.943529 \n\" style=\"fill:none;stroke:#000000;stroke-linecap:square;stroke-linejoin:miter;stroke-width:0.8;\"/>\n   </g>\n  </g>\n  <g id=\"axes_5\">\n   <g id=\"patch_22\">\n    <path d=\"M 138.727206 147.896471 \nL 202.680147 147.896471 \nL 202.680147 83.943529 \nL 138.727206 83.943529 \nz\n\" style=\"fill:#ffffff;\"/>\n   </g>\n   <g clip-path=\"url(#p624b217dc5)\">\n    <image height=\"64\" id=\"imagea77f40b235\" transform=\"scale(1 -1)translate(0 -64)\" width=\"64\" x=\"138.727206\" xlink:href=\"data:image/png;base64,\niVBORw0KGgoAAAANSUhEUgAAAEAAAABACAYAAACqaXHeAAAABHNCSVQICAgIfAhkiAAAAUpJREFUeJztmjuKhFAUBdtBBDHRQNHARbj/fRhqYCL4QRARf/Rs4QgDBfNuxYfbRfGCpmmvaZrvR+S+b2lXFIV68rMsi7ytqkrajeMo3/yRl/8UC0AL0FgAWoDGAtACNBaAFqBxPoC/77s8DoJA2r35ehtFkbxd11XahWEo33T+BVgAWoDGAtACNBaAFqCxALQAjTfPs/yjaNd10u66LlkgyzJ5OwyDtCvLUr7p/AuwALQAjQWgBWgsAC1AYwFoARrnA3h1XctfhZMkkXZ5nssCbdvKW8/zpJ3v+/JN51+ABaAFaCwALUBjAWgBGgtAC9A4H8B/nkceH8ch7fq+l2+maSpvt22Tdud5yjedfwEWgBagsQC0AI0FoAVoLAAtQOPHcSyP1X9qvvn35zRNf/75b3D+BVgAWoDGAtACNBaAFqCxALQAjfMBfgEkakE0gQQAPgAAAABJRU5ErkJggg==\" y=\"-83.896471\"/>\n   </g>\n   <g id=\"matplotlib.axis_9\">\n    <g id=\"xtick_9\">\n     <g id=\"line2d_21\">\n      <g>\n       <use style=\"stroke:#000000;stroke-width:0.8;\" x=\"144.056618\" xlink:href=\"#m877da16e6e\" y=\"147.896471\"/>\n      </g>\n     </g>\n     <g id=\"text_21\">\n      <!-- 0 -->\n      <g transform=\"translate(140.875368 162.494908)scale(0.1 -0.1)\">\n       <use xlink:href=\"#DejaVuSans-48\"/>\n      </g>\n     </g>\n    </g>\n    <g id=\"xtick_10\">\n     <g id=\"line2d_22\">\n      <g>\n       <use style=\"stroke:#000000;stroke-width:0.8;\" x=\"197.350735\" xlink:href=\"#m877da16e6e\" y=\"147.896471\"/>\n      </g>\n     </g>\n     <g id=\"text_22\">\n      <!-- 5 -->\n      <g transform=\"translate(194.169485 162.494908)scale(0.1 -0.1)\">\n       <use xlink:href=\"#DejaVuSans-53\"/>\n      </g>\n     </g>\n    </g>\n   </g>\n   <g id=\"matplotlib.axis_10\">\n    <g id=\"ytick_13\">\n     <g id=\"line2d_23\">\n      <g>\n       <use style=\"stroke:#000000;stroke-width:0.8;\" x=\"138.727206\" xlink:href=\"#m9b925c2e7e\" y=\"89.272941\"/>\n      </g>\n     </g>\n     <g id=\"text_23\">\n      <!-- 0 -->\n      <g transform=\"translate(125.364706 93.07216)scale(0.1 -0.1)\">\n       <use xlink:href=\"#DejaVuSans-48\"/>\n      </g>\n     </g>\n    </g>\n    <g id=\"ytick_14\">\n     <g id=\"line2d_24\">\n      <g>\n       <use style=\"stroke:#000000;stroke-width:0.8;\" x=\"138.727206\" xlink:href=\"#m9b925c2e7e\" y=\"110.590588\"/>\n      </g>\n     </g>\n     <g id=\"text_24\">\n      <!-- 2 -->\n      <g transform=\"translate(125.364706 114.389807)scale(0.1 -0.1)\">\n       <use xlink:href=\"#DejaVuSans-50\"/>\n      </g>\n     </g>\n    </g>\n    <g id=\"ytick_15\">\n     <g id=\"line2d_25\">\n      <g>\n       <use style=\"stroke:#000000;stroke-width:0.8;\" x=\"138.727206\" xlink:href=\"#m9b925c2e7e\" y=\"131.908235\"/>\n      </g>\n     </g>\n     <g id=\"text_25\">\n      <!-- 4 -->\n      <g transform=\"translate(125.364706 135.707454)scale(0.1 -0.1)\">\n       <use xlink:href=\"#DejaVuSans-52\"/>\n      </g>\n     </g>\n    </g>\n   </g>\n   <g id=\"patch_23\">\n    <path d=\"M 138.727206 147.896471 \nL 138.727206 83.943529 \n\" style=\"fill:none;stroke:#000000;stroke-linecap:square;stroke-linejoin:miter;stroke-width:0.8;\"/>\n   </g>\n   <g id=\"patch_24\">\n    <path d=\"M 202.680147 147.896471 \nL 202.680147 83.943529 \n\" style=\"fill:none;stroke:#000000;stroke-linecap:square;stroke-linejoin:miter;stroke-width:0.8;\"/>\n   </g>\n   <g id=\"patch_25\">\n    <path d=\"M 138.727206 147.896471 \nL 202.680147 147.896471 \n\" style=\"fill:none;stroke:#000000;stroke-linecap:square;stroke-linejoin:miter;stroke-width:0.8;\"/>\n   </g>\n   <g id=\"patch_26\">\n    <path d=\"M 138.727206 83.943529 \nL 202.680147 83.943529 \n\" style=\"fill:none;stroke:#000000;stroke-linecap:square;stroke-linejoin:miter;stroke-width:0.8;\"/>\n   </g>\n  </g>\n  <g id=\"axes_6\">\n   <g id=\"patch_27\">\n    <path d=\"M 256.891912 147.896471 \nL 320.844853 147.896471 \nL 320.844853 83.943529 \nL 256.891912 83.943529 \nz\n\" style=\"fill:#ffffff;\"/>\n   </g>\n   <g clip-path=\"url(#p45f31ab05d)\">\n    <image height=\"64\" id=\"imagea4971d895c\" transform=\"scale(1 -1)translate(0 -64)\" width=\"64\" x=\"256.891912\" xlink:href=\"data:image/png;base64,\niVBORw0KGgoAAAANSUhEUgAAAEAAAABACAYAAACqaXHeAAAABHNCSVQICAgIfAhkiAAAAVZJREFUeJztmz2qhEAYBL/1JxEDE49goLkX8RAe0NzIC5gKImOkYCBiKu67Qm/U8KYrboaidgJxdz/Oua+B3PcN7c7zRI+0933h7XEc0C7Pc/jMAF7+UxSALcBGAdgCbBSALcBGAdgCbLwPEM3zDI+v64J2TdPAZ47jCG/3fYd2cRzDZ3p/AxSALcBGAdgCbBSALcBGAdgCbKI0TeFxlmXQrigK+My+7+FtEGCfl54Ef0AB2AJsFIAtwEYB2AJsFIAtwMb7ANG2bfC4bVtoh36Pb2ZWVRW87boO2v3yotf7G6AAbAE2CsAWYKMAbAE2CsAWYON9gM8wDPBPZZMkgXbOOVggDEN4O00TtKvrGj7T+xugAGwBNgrAFmCjAGwBNgrAFmATPc8Dj5dlgXbon6vM8KdLM7OyLKHduq7wmd7fAAVgC7BRALYAGwVgC7BRALYAG+8D/AFD/z8VTZfbFgAAAABJRU5ErkJggg==\" y=\"-83.896471\"/>\n   </g>\n   <g id=\"matplotlib.axis_11\">\n    <g id=\"xtick_11\">\n     <g id=\"line2d_26\">\n      <g>\n       <use style=\"stroke:#000000;stroke-width:0.8;\" x=\"262.221324\" xlink:href=\"#m877da16e6e\" y=\"147.896471\"/>\n      </g>\n     </g>\n     <g id=\"text_26\">\n      <!-- 0 -->\n      <g transform=\"translate(259.040074 162.494908)scale(0.1 -0.1)\">\n       <use xlink:href=\"#DejaVuSans-48\"/>\n      </g>\n     </g>\n    </g>\n    <g id=\"xtick_12\">\n     <g id=\"line2d_27\">\n      <g>\n       <use style=\"stroke:#000000;stroke-width:0.8;\" x=\"315.515441\" xlink:href=\"#m877da16e6e\" y=\"147.896471\"/>\n      </g>\n     </g>\n     <g id=\"text_27\">\n      <!-- 5 -->\n      <g transform=\"translate(312.334191 162.494908)scale(0.1 -0.1)\">\n       <use xlink:href=\"#DejaVuSans-53\"/>\n      </g>\n     </g>\n    </g>\n   </g>\n   <g id=\"matplotlib.axis_12\">\n    <g id=\"ytick_16\">\n     <g id=\"line2d_28\">\n      <g>\n       <use style=\"stroke:#000000;stroke-width:0.8;\" x=\"256.891912\" xlink:href=\"#m9b925c2e7e\" y=\"89.272941\"/>\n      </g>\n     </g>\n     <g id=\"text_28\">\n      <!-- 0 -->\n      <g transform=\"translate(243.529412 93.07216)scale(0.1 -0.1)\">\n       <use xlink:href=\"#DejaVuSans-48\"/>\n      </g>\n     </g>\n    </g>\n    <g id=\"ytick_17\">\n     <g id=\"line2d_29\">\n      <g>\n       <use style=\"stroke:#000000;stroke-width:0.8;\" x=\"256.891912\" xlink:href=\"#m9b925c2e7e\" y=\"110.590588\"/>\n      </g>\n     </g>\n     <g id=\"text_29\">\n      <!-- 2 -->\n      <g transform=\"translate(243.529412 114.389807)scale(0.1 -0.1)\">\n       <use xlink:href=\"#DejaVuSans-50\"/>\n      </g>\n     </g>\n    </g>\n    <g id=\"ytick_18\">\n     <g id=\"line2d_30\">\n      <g>\n       <use style=\"stroke:#000000;stroke-width:0.8;\" x=\"256.891912\" xlink:href=\"#m9b925c2e7e\" y=\"131.908235\"/>\n      </g>\n     </g>\n     <g id=\"text_30\">\n      <!-- 4 -->\n      <g transform=\"translate(243.529412 135.707454)scale(0.1 -0.1)\">\n       <use xlink:href=\"#DejaVuSans-52\"/>\n      </g>\n     </g>\n    </g>\n   </g>\n   <g id=\"patch_28\">\n    <path d=\"M 256.891912 147.896471 \nL 256.891912 83.943529 \n\" style=\"fill:none;stroke:#000000;stroke-linecap:square;stroke-linejoin:miter;stroke-width:0.8;\"/>\n   </g>\n   <g id=\"patch_29\">\n    <path d=\"M 320.844853 147.896471 \nL 320.844853 83.943529 \n\" style=\"fill:none;stroke:#000000;stroke-linecap:square;stroke-linejoin:miter;stroke-width:0.8;\"/>\n   </g>\n   <g id=\"patch_30\">\n    <path d=\"M 256.891912 147.896471 \nL 320.844853 147.896471 \n\" style=\"fill:none;stroke:#000000;stroke-linecap:square;stroke-linejoin:miter;stroke-width:0.8;\"/>\n   </g>\n   <g id=\"patch_31\">\n    <path d=\"M 256.891912 83.943529 \nL 320.844853 83.943529 \n\" style=\"fill:none;stroke:#000000;stroke-linecap:square;stroke-linejoin:miter;stroke-width:0.8;\"/>\n   </g>\n  </g>\n  <g id=\"axes_7\">\n   <g id=\"patch_32\">\n    <path d=\"M 20.5625 224.64 \nL 84.515441 224.64 \nL 84.515441 160.687059 \nL 20.5625 160.687059 \nz\n\" style=\"fill:#ffffff;\"/>\n   </g>\n   <g clip-path=\"url(#p3cd4bcfe9e)\">\n    <image height=\"64\" id=\"image8dfa9d7575\" transform=\"scale(1 -1)translate(0 -64)\" width=\"64\" x=\"20.5625\" xlink:href=\"data:image/png;base64,\niVBORw0KGgoAAAANSUhEUgAAAEAAAABACAYAAACqaXHeAAAABHNCSVQICAgIfAhkiAAAAS5JREFUeJztmkuqhDAUBRNtjRDE/a/QmRM/E3+9g8exEQpeTo0v16LIQKJxmqY7vMx5nm+vDCGEkHOW5rZtk3dWv8r8FxyAFqBxAFqAxgFoARoHoAVoig/waZpGHm7bVppb11XeeRyHPKu+Yvd9L+8s/gQ4AC1A4wC0AI0D0AI0DkAL0MScs3wpOo6jNLfv+89CfxFjlOa6rpN3Fn8CHIAWoHEAWoDGAWgBGgegBWiKDxBDCPKr8H1ro/M8ywJPvuWnlKS5J/8nFH8CHIAWoHEAWoDGAWgBGgegBWiKDxBTSq/fCj/55+AJ6m3zk+cXfwIcgBagcQBagMYBaAEaB6AFaD5VpTeo61qaW5ZF3jkMgzyrcl2XPFv8CXAAWoDGAWgBGgegBWgcgBagKT7AF5RaM+TQnXlXAAAAAElFTkSuQmCC\" y=\"-160.64\"/>\n   </g>\n   <g id=\"matplotlib.axis_13\">\n    <g id=\"xtick_13\">\n     <g id=\"line2d_31\">\n      <g>\n       <use style=\"stroke:#000000;stroke-width:0.8;\" x=\"25.891912\" xlink:href=\"#m877da16e6e\" y=\"224.64\"/>\n      </g>\n     </g>\n     <g id=\"text_31\">\n      <!-- 0 -->\n      <g transform=\"translate(22.710662 239.238437)scale(0.1 -0.1)\">\n       <use xlink:href=\"#DejaVuSans-48\"/>\n      </g>\n     </g>\n    </g>\n    <g id=\"xtick_14\">\n     <g id=\"line2d_32\">\n      <g>\n       <use style=\"stroke:#000000;stroke-width:0.8;\" x=\"79.186029\" xlink:href=\"#m877da16e6e\" y=\"224.64\"/>\n      </g>\n     </g>\n     <g id=\"text_32\">\n      <!-- 5 -->\n      <g transform=\"translate(76.004779 239.238437)scale(0.1 -0.1)\">\n       <use xlink:href=\"#DejaVuSans-53\"/>\n      </g>\n     </g>\n    </g>\n   </g>\n   <g id=\"matplotlib.axis_14\">\n    <g id=\"ytick_19\">\n     <g id=\"line2d_33\">\n      <g>\n       <use style=\"stroke:#000000;stroke-width:0.8;\" x=\"20.5625\" xlink:href=\"#m9b925c2e7e\" y=\"166.016471\"/>\n      </g>\n     </g>\n     <g id=\"text_33\">\n      <!-- 0 -->\n      <g transform=\"translate(7.2 169.815689)scale(0.1 -0.1)\">\n       <use xlink:href=\"#DejaVuSans-48\"/>\n      </g>\n     </g>\n    </g>\n    <g id=\"ytick_20\">\n     <g id=\"line2d_34\">\n      <g>\n       <use style=\"stroke:#000000;stroke-width:0.8;\" x=\"20.5625\" xlink:href=\"#m9b925c2e7e\" y=\"187.334118\"/>\n      </g>\n     </g>\n     <g id=\"text_34\">\n      <!-- 2 -->\n      <g transform=\"translate(7.2 191.133336)scale(0.1 -0.1)\">\n       <use xlink:href=\"#DejaVuSans-50\"/>\n      </g>\n     </g>\n    </g>\n    <g id=\"ytick_21\">\n     <g id=\"line2d_35\">\n      <g>\n       <use style=\"stroke:#000000;stroke-width:0.8;\" x=\"20.5625\" xlink:href=\"#m9b925c2e7e\" y=\"208.651765\"/>\n      </g>\n     </g>\n     <g id=\"text_35\">\n      <!-- 4 -->\n      <g transform=\"translate(7.2 212.450983)scale(0.1 -0.1)\">\n       <use xlink:href=\"#DejaVuSans-52\"/>\n      </g>\n     </g>\n    </g>\n   </g>\n   <g id=\"patch_33\">\n    <path d=\"M 20.5625 224.64 \nL 20.5625 160.687059 \n\" style=\"fill:none;stroke:#000000;stroke-linecap:square;stroke-linejoin:miter;stroke-width:0.8;\"/>\n   </g>\n   <g id=\"patch_34\">\n    <path d=\"M 84.515441 224.64 \nL 84.515441 160.687059 \n\" style=\"fill:none;stroke:#000000;stroke-linecap:square;stroke-linejoin:miter;stroke-width:0.8;\"/>\n   </g>\n   <g id=\"patch_35\">\n    <path d=\"M 20.5625 224.64 \nL 84.515441 224.64 \n\" style=\"fill:none;stroke:#000000;stroke-linecap:square;stroke-linejoin:miter;stroke-width:0.8;\"/>\n   </g>\n   <g id=\"patch_36\">\n    <path d=\"M 20.5625 160.687059 \nL 84.515441 160.687059 \n\" style=\"fill:none;stroke:#000000;stroke-linecap:square;stroke-linejoin:miter;stroke-width:0.8;\"/>\n   </g>\n  </g>\n  <g id=\"axes_8\">\n   <g id=\"patch_37\">\n    <path d=\"M 138.727206 224.64 \nL 202.680147 224.64 \nL 202.680147 160.687059 \nL 138.727206 160.687059 \nz\n\" style=\"fill:#ffffff;\"/>\n   </g>\n   <g clip-path=\"url(#p7cb16a038d)\">\n    <image height=\"64\" id=\"imagecc684a5634\" transform=\"scale(1 -1)translate(0 -64)\" width=\"64\" x=\"138.727206\" xlink:href=\"data:image/png;base64,\niVBORw0KGgoAAAANSUhEUgAAAEAAAABACAYAAACqaXHeAAAABHNCSVQICAgIfAhkiAAAATZJREFUeJztmjuqhEAABJ31w/gBMTPw/gczNDIQREXfu0ILCwU7XXEzWxQTDLIhy7K/TCSEIO26rlOPzPZ9l7dVVUm7sizlMz/y8kdxAFqAxgFoARoHoAVoHIAWoEk+QIgxfv0p/IbneeSt+vt5nstnJn8DHIAWoHEAWoDGAWgBGgegBWiKGKM8Vl9t8zzLZ07TJG+3bZN2fd/LZyZ/AxyAFqBxAFqAxgFoARoHoAVokg8QiqKQP4ouyyLthmGQBY7jkLfjOEq7dV3lM5O/AQ5AC9A4AC1A4wC0AI0D0AI0yQcIbdvKT2H12fr56F3rupa353l+/czkb4AD0AI0DkAL0DgALUDjALQAzauXoPrCu65LFrjvW942TSPt3vyjNfkb4AC0AI0D0AI0DkAL0DgALUCTfIB/uCUqQgGKVVwAAAAASUVORK5CYII=\" y=\"-160.64\"/>\n   </g>\n   <g id=\"matplotlib.axis_15\">\n    <g id=\"xtick_15\">\n     <g id=\"line2d_36\">\n      <g>\n       <use style=\"stroke:#000000;stroke-width:0.8;\" x=\"144.056618\" xlink:href=\"#m877da16e6e\" y=\"224.64\"/>\n      </g>\n     </g>\n     <g id=\"text_36\">\n      <!-- 0 -->\n      <g transform=\"translate(140.875368 239.238437)scale(0.1 -0.1)\">\n       <use xlink:href=\"#DejaVuSans-48\"/>\n      </g>\n     </g>\n    </g>\n    <g id=\"xtick_16\">\n     <g id=\"line2d_37\">\n      <g>\n       <use style=\"stroke:#000000;stroke-width:0.8;\" x=\"197.350735\" xlink:href=\"#m877da16e6e\" y=\"224.64\"/>\n      </g>\n     </g>\n     <g id=\"text_37\">\n      <!-- 5 -->\n      <g transform=\"translate(194.169485 239.238437)scale(0.1 -0.1)\">\n       <use xlink:href=\"#DejaVuSans-53\"/>\n      </g>\n     </g>\n    </g>\n   </g>\n   <g id=\"matplotlib.axis_16\">\n    <g id=\"ytick_22\">\n     <g id=\"line2d_38\">\n      <g>\n       <use style=\"stroke:#000000;stroke-width:0.8;\" x=\"138.727206\" xlink:href=\"#m9b925c2e7e\" y=\"166.016471\"/>\n      </g>\n     </g>\n     <g id=\"text_38\">\n      <!-- 0 -->\n      <g transform=\"translate(125.364706 169.815689)scale(0.1 -0.1)\">\n       <use xlink:href=\"#DejaVuSans-48\"/>\n      </g>\n     </g>\n    </g>\n    <g id=\"ytick_23\">\n     <g id=\"line2d_39\">\n      <g>\n       <use style=\"stroke:#000000;stroke-width:0.8;\" x=\"138.727206\" xlink:href=\"#m9b925c2e7e\" y=\"187.334118\"/>\n      </g>\n     </g>\n     <g id=\"text_39\">\n      <!-- 2 -->\n      <g transform=\"translate(125.364706 191.133336)scale(0.1 -0.1)\">\n       <use xlink:href=\"#DejaVuSans-50\"/>\n      </g>\n     </g>\n    </g>\n    <g id=\"ytick_24\">\n     <g id=\"line2d_40\">\n      <g>\n       <use style=\"stroke:#000000;stroke-width:0.8;\" x=\"138.727206\" xlink:href=\"#m9b925c2e7e\" y=\"208.651765\"/>\n      </g>\n     </g>\n     <g id=\"text_40\">\n      <!-- 4 -->\n      <g transform=\"translate(125.364706 212.450983)scale(0.1 -0.1)\">\n       <use xlink:href=\"#DejaVuSans-52\"/>\n      </g>\n     </g>\n    </g>\n   </g>\n   <g id=\"patch_38\">\n    <path d=\"M 138.727206 224.64 \nL 138.727206 160.687059 \n\" style=\"fill:none;stroke:#000000;stroke-linecap:square;stroke-linejoin:miter;stroke-width:0.8;\"/>\n   </g>\n   <g id=\"patch_39\">\n    <path d=\"M 202.680147 224.64 \nL 202.680147 160.687059 \n\" style=\"fill:none;stroke:#000000;stroke-linecap:square;stroke-linejoin:miter;stroke-width:0.8;\"/>\n   </g>\n   <g id=\"patch_40\">\n    <path d=\"M 138.727206 224.64 \nL 202.680147 224.64 \n\" style=\"fill:none;stroke:#000000;stroke-linecap:square;stroke-linejoin:miter;stroke-width:0.8;\"/>\n   </g>\n   <g id=\"patch_41\">\n    <path d=\"M 138.727206 160.687059 \nL 202.680147 160.687059 \n\" style=\"fill:none;stroke:#000000;stroke-linecap:square;stroke-linejoin:miter;stroke-width:0.8;\"/>\n   </g>\n  </g>\n  <g id=\"axes_9\">\n   <g id=\"patch_42\">\n    <path d=\"M 256.891912 224.64 \nL 320.844853 224.64 \nL 320.844853 160.687059 \nL 256.891912 160.687059 \nz\n\" style=\"fill:#ffffff;\"/>\n   </g>\n   <g clip-path=\"url(#pde51129015)\">\n    <image height=\"64\" id=\"image7cdbfd996f\" transform=\"scale(1 -1)translate(0 -64)\" width=\"64\" x=\"256.891912\" xlink:href=\"data:image/png;base64,\niVBORw0KGgoAAAANSUhEUgAAAEAAAABACAYAAACqaXHeAAAABHNCSVQICAgIfAhkiAAAAUxJREFUeJztmLHKQGAYRtFvsbgCExuri3VRRkkGSQZJIRPJfwvPP536v/fMT2+n0zeIn6bp54m87yvtvk8+6VVVJW/zPJd2bdvKNwN5+U+xALQAjQWgBWgsAC1AYwFoARrnA/ie58nfrU3TSLv7vmWB4zjkbZqm0m7fd/mm8y/AAtACNBaAFqCxALQAjQWgBWj8vu/lL8E4jqXdtm2ywPM88jYMQ2kXRZF80/kXYAFoARoLQAvQWABagMYC0AI0zgfw3/eVP4XHcZR2QaB3XddV3iZJIu3meZZvOv8CLAAtQGMBaAEaC0AL0FgAWoDG+QA/dV3L47Ispd15nvLNZVnkrXr3L3+anX8BFoAWoLEAtACNBaAFaCwALUDjd10n/xQdhkHaZVkmC1zXJW+naZJ2RVHIN51/ARaAFqCxALQAjQWgBWgsAC1A43yAX+KiSiXBC0smAAAAAElFTkSuQmCC\" y=\"-160.64\"/>\n   </g>\n   <g id=\"matplotlib.axis_17\">\n    <g id=\"xtick_17\">\n     <g id=\"line2d_41\">\n      <g>\n       <use style=\"stroke:#000000;stroke-width:0.8;\" x=\"262.221324\" xlink:href=\"#m877da16e6e\" y=\"224.64\"/>\n      </g>\n     </g>\n     <g id=\"text_41\">\n      <!-- 0 -->\n      <g transform=\"translate(259.040074 239.238437)scale(0.1 -0.1)\">\n       <use xlink:href=\"#DejaVuSans-48\"/>\n      </g>\n     </g>\n    </g>\n    <g id=\"xtick_18\">\n     <g id=\"line2d_42\">\n      <g>\n       <use style=\"stroke:#000000;stroke-width:0.8;\" x=\"315.515441\" xlink:href=\"#m877da16e6e\" y=\"224.64\"/>\n      </g>\n     </g>\n     <g id=\"text_42\">\n      <!-- 5 -->\n      <g transform=\"translate(312.334191 239.238437)scale(0.1 -0.1)\">\n       <use xlink:href=\"#DejaVuSans-53\"/>\n      </g>\n     </g>\n    </g>\n   </g>\n   <g id=\"matplotlib.axis_18\">\n    <g id=\"ytick_25\">\n     <g id=\"line2d_43\">\n      <g>\n       <use style=\"stroke:#000000;stroke-width:0.8;\" x=\"256.891912\" xlink:href=\"#m9b925c2e7e\" y=\"166.016471\"/>\n      </g>\n     </g>\n     <g id=\"text_43\">\n      <!-- 0 -->\n      <g transform=\"translate(243.529412 169.815689)scale(0.1 -0.1)\">\n       <use xlink:href=\"#DejaVuSans-48\"/>\n      </g>\n     </g>\n    </g>\n    <g id=\"ytick_26\">\n     <g id=\"line2d_44\">\n      <g>\n       <use style=\"stroke:#000000;stroke-width:0.8;\" x=\"256.891912\" xlink:href=\"#m9b925c2e7e\" y=\"187.334118\"/>\n      </g>\n     </g>\n     <g id=\"text_44\">\n      <!-- 2 -->\n      <g transform=\"translate(243.529412 191.133336)scale(0.1 -0.1)\">\n       <use xlink:href=\"#DejaVuSans-50\"/>\n      </g>\n     </g>\n    </g>\n    <g id=\"ytick_27\">\n     <g id=\"line2d_45\">\n      <g>\n       <use style=\"stroke:#000000;stroke-width:0.8;\" x=\"256.891912\" xlink:href=\"#m9b925c2e7e\" y=\"208.651765\"/>\n      </g>\n     </g>\n     <g id=\"text_45\">\n      <!-- 4 -->\n      <g transform=\"translate(243.529412 212.450983)scale(0.1 -0.1)\">\n       <use xlink:href=\"#DejaVuSans-52\"/>\n      </g>\n     </g>\n    </g>\n   </g>\n   <g id=\"patch_43\">\n    <path d=\"M 256.891912 224.64 \nL 256.891912 160.687059 \n\" style=\"fill:none;stroke:#000000;stroke-linecap:square;stroke-linejoin:miter;stroke-width:0.8;\"/>\n   </g>\n   <g id=\"patch_44\">\n    <path d=\"M 320.844853 224.64 \nL 320.844853 160.687059 \n\" style=\"fill:none;stroke:#000000;stroke-linecap:square;stroke-linejoin:miter;stroke-width:0.8;\"/>\n   </g>\n   <g id=\"patch_45\">\n    <path d=\"M 256.891912 224.64 \nL 320.844853 224.64 \n\" style=\"fill:none;stroke:#000000;stroke-linecap:square;stroke-linejoin:miter;stroke-width:0.8;\"/>\n   </g>\n   <g id=\"patch_46\">\n    <path d=\"M 256.891912 160.687059 \nL 320.844853 160.687059 \n\" style=\"fill:none;stroke:#000000;stroke-linecap:square;stroke-linejoin:miter;stroke-width:0.8;\"/>\n   </g>\n  </g>\n </g>\n <defs>\n  <clipPath id=\"pbbfcdc4e44\">\n   <rect height=\"63.952941\" width=\"63.952941\" x=\"20.5625\" y=\"7.2\"/>\n  </clipPath>\n  <clipPath id=\"pdf0597f037\">\n   <rect height=\"63.952941\" width=\"63.952941\" x=\"138.727206\" y=\"7.2\"/>\n  </clipPath>\n  <clipPath id=\"p8fbbb1cf21\">\n   <rect height=\"63.952941\" width=\"63.952941\" x=\"256.891912\" y=\"7.2\"/>\n  </clipPath>\n  <clipPath id=\"pfb15a3635a\">\n   <rect height=\"63.952941\" width=\"63.952941\" x=\"20.5625\" y=\"83.943529\"/>\n  </clipPath>\n  <clipPath id=\"p624b217dc5\">\n   <rect height=\"63.952941\" width=\"63.952941\" x=\"138.727206\" y=\"83.943529\"/>\n  </clipPath>\n  <clipPath id=\"p45f31ab05d\">\n   <rect height=\"63.952941\" width=\"63.952941\" x=\"256.891912\" y=\"83.943529\"/>\n  </clipPath>\n  <clipPath id=\"p3cd4bcfe9e\">\n   <rect height=\"63.952941\" width=\"63.952941\" x=\"20.5625\" y=\"160.687059\"/>\n  </clipPath>\n  <clipPath id=\"p7cb16a038d\">\n   <rect height=\"63.952941\" width=\"63.952941\" x=\"138.727206\" y=\"160.687059\"/>\n  </clipPath>\n  <clipPath id=\"pde51129015\">\n   <rect height=\"63.952941\" width=\"63.952941\" x=\"256.891912\" y=\"160.687059\"/>\n  </clipPath>\n </defs>\n</svg>\n",
      "image/png": "[encoded data removed]"
     },
     "metadata": {
      "needs_background": "light"
     }
    }
   ],
   "source": [
    "f, ax = plt.subplots(3,3)\n",
    "for i in range(9):\n",
    "    ax[i % 3, i // 3].imshow(fig[i].reshape(6,6), 'gray')"
   ]
  },
  {
   "cell_type": "code",
   "execution_count": null,
   "metadata": {},
   "outputs": [],
   "source": []
  }
 ],
 "metadata": {
  "kernelspec": {
   "display_name": "Python 3",
   "language": "python",
   "name": "python3"
  },
  "language_info": {
   "codemirror_mode": {
    "name": "ipython",
    "version": 3
   },
   "file_extension": ".py",
   "mimetype": "text/x-python",
   "name": "python",
   "nbconvert_exporter": "python",
   "pygments_lexer": "ipython3",
   "version": "3.7.3-final"
  }
 },
 "nbformat": 4,
 "nbformat_minor": 4
}